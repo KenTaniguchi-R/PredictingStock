{
 "cells": [
  {
   "cell_type": "code",
   "execution_count": 1,
   "metadata": {},
   "outputs": [],
   "source": [
    "import math\n",
    "import matplotlib\n",
    "import numpy as np\n",
    "import pandas as pd\n",
    "import pickle\n",
    "import datetime\n",
    "from plotly.offline import iplot\n",
    "import yfinance as yf\n",
    "import talib\n",
    "\n",
    "from sklearn.preprocessing import LabelEncoder\n",
    "from sklearn.preprocessing import StandardScaler\n",
    "from tqdm.notebook import tqdm_notebook\n",
    "\n",
    "from matplotlib import pyplot as plt\n",
    "\n",
    "%matplotlib inline"
   ]
  },
  {
   "cell_type": "code",
   "execution_count": 2,
   "metadata": {},
   "outputs": [],
   "source": [
    "need_row_data = False\n",
    "load_data = True\n",
    "\n",
    "seed = 42\n",
    "\n",
    "period = '6y'\n",
    "interval = '1d'\n",
    "\n",
    "day_after = 1\n",
    "\n",
    "N = 10 \n",
    "\n",
    "train_size = 0.9          # split data into train, validation, and test with ratio of 0.7, 0.15, 0.15\n",
    "val_size = 0.9"
   ]
  },
  {
   "cell_type": "markdown",
   "metadata": {},
   "source": [
    "# Load data"
   ]
  },
  {
   "cell_type": "code",
   "execution_count": 3,
   "metadata": {},
   "outputs": [
    {
     "data": {
      "text/html": [
       "<div>\n",
       "<style scoped>\n",
       "    .dataframe tbody tr th:only-of-type {\n",
       "        vertical-align: middle;\n",
       "    }\n",
       "\n",
       "    .dataframe tbody tr th {\n",
       "        vertical-align: top;\n",
       "    }\n",
       "\n",
       "    .dataframe thead th {\n",
       "        text-align: right;\n",
       "    }\n",
       "</style>\n",
       "<table border=\"1\" class=\"dataframe\">\n",
       "  <thead>\n",
       "    <tr style=\"text-align: right;\">\n",
       "      <th></th>\n",
       "      <th>ticker</th>\n",
       "      <th>company</th>\n",
       "      <th>sector</th>\n",
       "      <th>market_cap</th>\n",
       "    </tr>\n",
       "  </thead>\n",
       "  <tbody>\n",
       "    <tr>\n",
       "      <th>0</th>\n",
       "      <td>7203</td>\n",
       "      <td>トヨタ自動車</td>\n",
       "      <td>自動車・自動車部品</td>\n",
       "      <td>33576</td>\n",
       "    </tr>\n",
       "    <tr>\n",
       "      <th>1</th>\n",
       "      <td>1306</td>\n",
       "      <td>ＮＥＸＴ　ＦＵＮＤＳ　ＴＯＰＩＸ連動型上</td>\n",
       "      <td>その他金融</td>\n",
       "      <td>15764</td>\n",
       "    </tr>\n",
       "    <tr>\n",
       "      <th>2</th>\n",
       "      <td>9432</td>\n",
       "      <td>日本電信電話</td>\n",
       "      <td>通信</td>\n",
       "      <td>13858</td>\n",
       "    </tr>\n",
       "    <tr>\n",
       "      <th>3</th>\n",
       "      <td>6758</td>\n",
       "      <td>ソニーグループ</td>\n",
       "      <td>電気機器</td>\n",
       "      <td>13658</td>\n",
       "    </tr>\n",
       "    <tr>\n",
       "      <th>4</th>\n",
       "      <td>6861</td>\n",
       "      <td>キーエンス</td>\n",
       "      <td>電気機器</td>\n",
       "      <td>11667</td>\n",
       "    </tr>\n",
       "  </tbody>\n",
       "</table>\n",
       "</div>"
      ],
      "text/plain": [
       "   ticker               company     sector  market_cap\n",
       "0    7203                トヨタ自動車  自動車・自動車部品       33576\n",
       "1    1306  ＮＥＸＴ　ＦＵＮＤＳ　ＴＯＰＩＸ連動型上      その他金融       15764\n",
       "2    9432                日本電信電話         通信       13858\n",
       "3    6758               ソニーグループ       電気機器       13658\n",
       "4    6861                 キーエンス       電気機器       11667"
      ]
     },
     "execution_count": 3,
     "metadata": {},
     "output_type": "execute_result"
    }
   ],
   "source": [
    "if need_row_data:\n",
    "    csvs = [\n",
    "        '1st', '2nd', '3rd', '4th', '5th', '6th', '7th', '8th', '9th', '10th'\n",
    "    ]\n",
    "\n",
    "    tickers = pd.DataFrame()\n",
    "    for csv in csvs:\n",
    "        data = pd.read_csv(f'data/row_jap/{csv}.csv')\n",
    "        tickers = pd.concat([tickers, data], axis=0)\n",
    "\n",
    "    with open('models/row_jap_stock.pickle', 'wb') as handle:\n",
    "        pickle.dump(tickers, handle, protocol=pickle.HIGHEST_PROTOCOL)\n",
    "\n",
    "    tickers = tickers[['ｺｰﾄﾞ', '会社名', '業種', '時価総額\\r\\n(10億円)']]\n",
    "    tickers.rename(columns={\"ｺｰﾄﾞ\": \"ticker\", \"会社名\": \"company\", \"業種\":\"sector\", \"時価総額\\r\\n(10億円)\": \"market_cap\"}, inplace=True)\n",
    "    tickers.replace(',','', regex=True, inplace=True)\n",
    "    tickers['market_cap'] = tickers['market_cap'].astype(str).astype(int)\n",
    "\n",
    "    with open('data/jap_ticker.pickle', 'wb') as handle:\n",
    "        pickle.dump(tickers, handle, protocol=pickle.HIGHEST_PROTOCOL)\n",
    "else:\n",
    "    with open('data/jap_ticker.pickle', 'rb') as handle:\n",
    "        tickers = pickle.load(handle)\n",
    "\n",
    "tickers.head()"
   ]
  },
  {
   "cell_type": "code",
   "execution_count": 4,
   "metadata": {},
   "outputs": [
    {
     "data": {
      "application/vnd.jupyter.widget-view+json": {
       "model_id": "d84da8d6a5c14f0a8eb475cfed3876b9",
       "version_major": 2,
       "version_minor": 0
      },
      "text/plain": [
       "  0%|          | 0/300 [00:00<?, ?it/s]"
      ]
     },
     "metadata": {},
     "output_type": "display_data"
    },
    {
     "data": {
      "text/html": [
       "<div>\n",
       "<style scoped>\n",
       "    .dataframe tbody tr th:only-of-type {\n",
       "        vertical-align: middle;\n",
       "    }\n",
       "\n",
       "    .dataframe tbody tr th {\n",
       "        vertical-align: top;\n",
       "    }\n",
       "\n",
       "    .dataframe thead th {\n",
       "        text-align: right;\n",
       "    }\n",
       "</style>\n",
       "<table border=\"1\" class=\"dataframe\">\n",
       "  <thead>\n",
       "    <tr style=\"text-align: right;\">\n",
       "      <th></th>\n",
       "      <th>Open</th>\n",
       "      <th>High</th>\n",
       "      <th>Low</th>\n",
       "      <th>Close</th>\n",
       "      <th>Adj Close</th>\n",
       "      <th>Volume</th>\n",
       "      <th>ticker</th>\n",
       "      <th>sector</th>\n",
       "    </tr>\n",
       "    <tr>\n",
       "      <th>Date</th>\n",
       "      <th></th>\n",
       "      <th></th>\n",
       "      <th></th>\n",
       "      <th></th>\n",
       "      <th></th>\n",
       "      <th></th>\n",
       "      <th></th>\n",
       "      <th></th>\n",
       "    </tr>\n",
       "  </thead>\n",
       "  <tbody>\n",
       "    <tr>\n",
       "      <th>2022-07-21</th>\n",
       "      <td>2191.0</td>\n",
       "      <td>2206.0</td>\n",
       "      <td>2175.0</td>\n",
       "      <td>2193.5</td>\n",
       "      <td>2193.5</td>\n",
       "      <td>24208700</td>\n",
       "      <td>7203.T</td>\n",
       "      <td>自動車・自動車部品</td>\n",
       "    </tr>\n",
       "    <tr>\n",
       "      <th>2022-07-22</th>\n",
       "      <td>2199.5</td>\n",
       "      <td>2204.5</td>\n",
       "      <td>2190.0</td>\n",
       "      <td>2202.5</td>\n",
       "      <td>2202.5</td>\n",
       "      <td>20867700</td>\n",
       "      <td>7203.T</td>\n",
       "      <td>自動車・自動車部品</td>\n",
       "    </tr>\n",
       "    <tr>\n",
       "      <th>2022-07-25</th>\n",
       "      <td>2177.0</td>\n",
       "      <td>2198.5</td>\n",
       "      <td>2163.0</td>\n",
       "      <td>2166.0</td>\n",
       "      <td>2166.0</td>\n",
       "      <td>16534400</td>\n",
       "      <td>7203.T</td>\n",
       "      <td>自動車・自動車部品</td>\n",
       "    </tr>\n",
       "    <tr>\n",
       "      <th>2022-07-26</th>\n",
       "      <td>2177.5</td>\n",
       "      <td>2182.5</td>\n",
       "      <td>2160.0</td>\n",
       "      <td>2166.0</td>\n",
       "      <td>2166.0</td>\n",
       "      <td>12369100</td>\n",
       "      <td>7203.T</td>\n",
       "      <td>自動車・自動車部品</td>\n",
       "    </tr>\n",
       "    <tr>\n",
       "      <th>2022-07-27</th>\n",
       "      <td>2154.0</td>\n",
       "      <td>2174.0</td>\n",
       "      <td>2142.0</td>\n",
       "      <td>2169.0</td>\n",
       "      <td>2169.0</td>\n",
       "      <td>15783800</td>\n",
       "      <td>7203.T</td>\n",
       "      <td>自動車・自動車部品</td>\n",
       "    </tr>\n",
       "  </tbody>\n",
       "</table>\n",
       "</div>"
      ],
      "text/plain": [
       "              Open    High     Low   Close  Adj Close    Volume  ticker  \\\n",
       "Date                                                                      \n",
       "2022-07-21  2191.0  2206.0  2175.0  2193.5     2193.5  24208700  7203.T   \n",
       "2022-07-22  2199.5  2204.5  2190.0  2202.5     2202.5  20867700  7203.T   \n",
       "2022-07-25  2177.0  2198.5  2163.0  2166.0     2166.0  16534400  7203.T   \n",
       "2022-07-26  2177.5  2182.5  2160.0  2166.0     2166.0  12369100  7203.T   \n",
       "2022-07-27  2154.0  2174.0  2142.0  2169.0     2169.0  15783800  7203.T   \n",
       "\n",
       "               sector  \n",
       "Date                   \n",
       "2022-07-21  自動車・自動車部品  \n",
       "2022-07-22  自動車・自動車部品  \n",
       "2022-07-25  自動車・自動車部品  \n",
       "2022-07-26  自動車・自動車部品  \n",
       "2022-07-27  自動車・自動車部品  "
      ]
     },
     "execution_count": 4,
     "metadata": {},
     "output_type": "execute_result"
    }
   ],
   "source": [
    "if load_data:\n",
    "    dfs = []\n",
    "\n",
    "#    forex_data = yf.download('USDJPY=X', period=period, interval=interval, progress=False)\n",
    "#    forex_data.rename({\"Adj Close\": 'forex'}, inplace=True, axis=1)\n",
    "#    forex = forex_data[['forex']]\n",
    "#\n",
    "#    dji_data = yf.download('^dji', period=period, interval=interval, progress=False)\n",
    "#    dji_data.rename({\"Adj Close\": 'dji'}, inplace=True, axis=1)\n",
    "#    dji = dji_data[['dji']]#.shift(1)\n",
    "#\n",
    "#    sp500_data = yf.download(tickers='^GSPC', period=period, interval=interval, progress=False)\n",
    "#    sp500_data.rename({\"Adj Close\": 'sp500'}, inplace=True, axis=1)\n",
    "#    sp500 = sp500_data[['sp500']]\n",
    "#\n",
    "#    n225_data = yf.download(tickers='^N225', period=period, interval=interval, progress=False)\n",
    "#    n225_data.rename({\"Adj Close\": 'n225'}, inplace=True, axis=1)\n",
    "#    n225 = n225_data[['n225']].shift(1)\n",
    "#\n",
    "#    bond13_data = yf.download(tickers='^IRX', period=period, interval=interval, progress=False)\n",
    "#    bond13_data.rename({\"Adj Close\": 'bond13'}, inplace=True, axis=1)\n",
    "#    bond13 = bond13_data[['bond13']]\n",
    "#\n",
    "#    bond5_data = yf.download(tickers='^FVX', period=period, interval=interval, progress=False)\n",
    "#    bond5_data.rename({\"Adj Close\": 'bond5'}, inplace=True, axis=1)\n",
    "#    bond5 = bond5_data[['bond5']]\n",
    "\n",
    "    for i, company in tqdm_notebook(tickers.iterrows(), total=len(tickers)):\n",
    "        ticker = str(company[\"ticker\"]) + '.T'\n",
    "        try:\n",
    "            temp_df = yf.download(ticker, period=period, interval=interval, progress=False)\n",
    "            # create ticker column and sector column\n",
    "            #temp_df = pd.concat([temp_df, forex, dji, n225, sp500, bond13, bond5], axis=1, join='inner')\n",
    "            temp_df['ticker'] = ticker\n",
    "            temp_df['sector'] = company[\"sector\"]\n",
    "\n",
    "            dfs.append(temp_df)\n",
    "        except Exception as e: print(e)\n",
    "\n",
    "else:\n",
    "    with open('data/jp_company_data_2022_7_7.pickle', 'rb') as handle:\n",
    "        dfs = pickle.load(handle)\n",
    "\n",
    "dfs[0].tail()"
   ]
  },
  {
   "cell_type": "code",
   "execution_count": 5,
   "metadata": {},
   "outputs": [],
   "source": [
    "#for df in dfs:\n",
    "#    df.drop(columns=['forex', 'dji', 'n225', 'sp500', 'bond13', 'bond5'], inplace=True)"
   ]
  },
  {
   "cell_type": "code",
   "execution_count": 6,
   "metadata": {},
   "outputs": [
    {
     "data": {
      "text/html": [
       "<div>\n",
       "<style scoped>\n",
       "    .dataframe tbody tr th:only-of-type {\n",
       "        vertical-align: middle;\n",
       "    }\n",
       "\n",
       "    .dataframe tbody tr th {\n",
       "        vertical-align: top;\n",
       "    }\n",
       "\n",
       "    .dataframe thead th {\n",
       "        text-align: right;\n",
       "    }\n",
       "</style>\n",
       "<table border=\"1\" class=\"dataframe\">\n",
       "  <thead>\n",
       "    <tr style=\"text-align: right;\">\n",
       "      <th></th>\n",
       "      <th>date</th>\n",
       "      <th>open</th>\n",
       "      <th>high</th>\n",
       "      <th>low</th>\n",
       "      <th>close</th>\n",
       "      <th>adj_close</th>\n",
       "      <th>volume</th>\n",
       "      <th>ticker</th>\n",
       "      <th>sector</th>\n",
       "      <th>daily_ret</th>\n",
       "      <th>volatility</th>\n",
       "      <th>weekday</th>\n",
       "      <th>month</th>\n",
       "    </tr>\n",
       "  </thead>\n",
       "  <tbody>\n",
       "    <tr>\n",
       "      <th>1481</th>\n",
       "      <td>2022-07-21</td>\n",
       "      <td>2191.0</td>\n",
       "      <td>2206.0</td>\n",
       "      <td>2175.0</td>\n",
       "      <td>2193.5</td>\n",
       "      <td>2193.5</td>\n",
       "      <td>24208700</td>\n",
       "      <td>7203.T</td>\n",
       "      <td>自動車・自動車部品</td>\n",
       "      <td>0.410303</td>\n",
       "      <td>0.014053</td>\n",
       "      <td>3</td>\n",
       "      <td>7</td>\n",
       "    </tr>\n",
       "    <tr>\n",
       "      <th>1482</th>\n",
       "      <td>2022-07-22</td>\n",
       "      <td>2199.5</td>\n",
       "      <td>2204.5</td>\n",
       "      <td>2190.0</td>\n",
       "      <td>2202.5</td>\n",
       "      <td>2202.5</td>\n",
       "      <td>20867700</td>\n",
       "      <td>7203.T</td>\n",
       "      <td>自動車・自動車部品</td>\n",
       "      <td>-1.657208</td>\n",
       "      <td>0.006577</td>\n",
       "      <td>4</td>\n",
       "      <td>7</td>\n",
       "    </tr>\n",
       "    <tr>\n",
       "      <th>1483</th>\n",
       "      <td>2022-07-25</td>\n",
       "      <td>2177.0</td>\n",
       "      <td>2198.5</td>\n",
       "      <td>2163.0</td>\n",
       "      <td>2166.0</td>\n",
       "      <td>2166.0</td>\n",
       "      <td>16534400</td>\n",
       "      <td>7203.T</td>\n",
       "      <td>自動車・自動車部品</td>\n",
       "      <td>0.000000</td>\n",
       "      <td>0.016147</td>\n",
       "      <td>0</td>\n",
       "      <td>7</td>\n",
       "    </tr>\n",
       "    <tr>\n",
       "      <th>1484</th>\n",
       "      <td>2022-07-26</td>\n",
       "      <td>2177.5</td>\n",
       "      <td>2182.5</td>\n",
       "      <td>2160.0</td>\n",
       "      <td>2166.0</td>\n",
       "      <td>2166.0</td>\n",
       "      <td>12369100</td>\n",
       "      <td>7203.T</td>\n",
       "      <td>自動車・自動車部品</td>\n",
       "      <td>0.138504</td>\n",
       "      <td>0.010309</td>\n",
       "      <td>1</td>\n",
       "      <td>7</td>\n",
       "    </tr>\n",
       "    <tr>\n",
       "      <th>1485</th>\n",
       "      <td>2022-07-27</td>\n",
       "      <td>2154.0</td>\n",
       "      <td>2174.0</td>\n",
       "      <td>2142.0</td>\n",
       "      <td>2169.0</td>\n",
       "      <td>2169.0</td>\n",
       "      <td>15783800</td>\n",
       "      <td>7203.T</td>\n",
       "      <td>自動車・自動車部品</td>\n",
       "      <td>NaN</td>\n",
       "      <td>0.014719</td>\n",
       "      <td>2</td>\n",
       "      <td>7</td>\n",
       "    </tr>\n",
       "  </tbody>\n",
       "</table>\n",
       "</div>"
      ],
      "text/plain": [
       "           date    open    high     low   close  adj_close    volume  ticker  \\\n",
       "1481 2022-07-21  2191.0  2206.0  2175.0  2193.5     2193.5  24208700  7203.T   \n",
       "1482 2022-07-22  2199.5  2204.5  2190.0  2202.5     2202.5  20867700  7203.T   \n",
       "1483 2022-07-25  2177.0  2198.5  2163.0  2166.0     2166.0  16534400  7203.T   \n",
       "1484 2022-07-26  2177.5  2182.5  2160.0  2166.0     2166.0  12369100  7203.T   \n",
       "1485 2022-07-27  2154.0  2174.0  2142.0  2169.0     2169.0  15783800  7203.T   \n",
       "\n",
       "         sector  daily_ret  volatility  weekday  month  \n",
       "1481  自動車・自動車部品   0.410303    0.014053        3      7  \n",
       "1482  自動車・自動車部品  -1.657208    0.006577        4      7  \n",
       "1483  自動車・自動車部品   0.000000    0.016147        0      7  \n",
       "1484  自動車・自動車部品   0.138504    0.010309        1      7  \n",
       "1485  自動車・自動車部品        NaN    0.014719        2      7  "
      ]
     },
     "execution_count": 6,
     "metadata": {},
     "output_type": "execute_result"
    }
   ],
   "source": [
    "remove_df_i = []\n",
    "\n",
    "for i, temp_df in enumerate(dfs):\n",
    "    if temp_df.shape[0] == 0:\n",
    "        print(temp_df.ticker)\n",
    "        remove_df_i.append(i)\n",
    "        continue\n",
    "    temp_df.reset_index(inplace=True)\n",
    "    # Change all column headings to be lower case, and remove spacing\n",
    "    temp_df.columns = [str(x).lower().replace(' ', '_') for x in temp_df.columns]\n",
    "\n",
    "    # Sort by datetime\n",
    "    temp_df.sort_values(by='date', inplace=True, ascending=True)\n",
    "\n",
    "    # Create returns column\n",
    "    temp_df['daily_ret'] = 100.0 * ((temp_df['adj_close'].shift(-1*day_after) / temp_df['adj_close'])-1)\n",
    "    temp_df['volatility'] = (temp_df['high'] - temp_df['low'])/temp_df['high']\n",
    "    #temp_df['dji_ret'] = 100.0 * ((temp_df['dji'].shift(1) / temp_df['dji'])-1)*-1\n",
    "    #temp_df['forex_ret'] = 100.0 * ((temp_df['forex'].shift(1) / temp_df['forex'])-1)*-1\n",
    "    #temp_df['sp500_ret'] = 100.0 * ((temp_df['sp500'].shift(1) / temp_df['sp500'])-1)*-1\n",
    "    #temp_df['n225_ret'] = 100.0 * ((temp_df['n225'].shift(1) / temp_df['n225'])-1)*-1\n",
    "    #temp_df['bond13_ret'] = 100.0 * ((temp_df['bond13'].shift(1) / temp_df['bond13'])-1)*-1\n",
    "    #temp_df['bond5_ret'] = 100.0 * ((temp_df['bond5'].shift(1) / temp_df['bond5'])-1)*-1\n",
    "\n",
    "    # create weekday column\n",
    "    date = pd.to_datetime(temp_df['date']).dt\n",
    "    temp_df['weekday'] = date.weekday\n",
    "    temp_df['month'] = date.month\n",
    "\n",
    "for index in sorted(remove_df_i, reverse=True):\n",
    "    del dfs[index]\n",
    "\n",
    "dfs[0].tail()"
   ]
  },
  {
   "cell_type": "markdown",
   "metadata": {},
   "source": [
    "# Feature Engineering"
   ]
  },
  {
   "cell_type": "markdown",
   "metadata": {},
   "source": [
    "## Simple Moving Average"
   ]
  },
  {
   "cell_type": "code",
   "execution_count": 7,
   "metadata": {},
   "outputs": [],
   "source": [
    "# Simple moving average\n",
    "for temp_df in dfs:\n",
    "    sma_10 = temp_df['adj_close'].rolling(window = 10).mean()\n",
    "    sma_20 = temp_df['adj_close'].rolling(window = 20).mean()\n",
    "    sma_50 = temp_df['adj_close'].rolling(window = 50).mean()\n",
    "    sma_100 = temp_df['adj_close'].rolling(window = 100).mean()\n",
    "    sma_200 = temp_df['adj_close'].rolling(window = 200).mean()\n",
    "\n",
    "    # get the moving average ratio\n",
    "    temp_df['sma_10_r'] = (temp_df['adj_close'] - sma_10)/sma_10 * 100\n",
    "    temp_df['sma_20_r'] = (temp_df['adj_close'] - sma_20)/sma_20 * 100\n",
    "    temp_df['sma_50_r'] = (temp_df['adj_close'] - sma_50)/sma_50 * 100\n",
    "    temp_df['sma_100_r'] = (temp_df['adj_close'] - sma_100)/sma_100 * 100\n",
    "    temp_df['sma_200_r'] = (temp_df['adj_close'] - sma_200)/sma_200 * 100\n",
    "\n",
    "    # Get the sma on the previous day\n",
    "    temp_df['adj_close_lag_1'] = temp_df['adj_close'].shift(1)\n",
    "    temp_df['sma_10_lag_1'] = temp_df['sma_10_r'].shift(1)\n",
    "    temp_df['sma_20_lag_1'] = temp_df['sma_20_r'].shift(1)\n",
    "    temp_df['sma_50_lag_1'] = temp_df['sma_50_r'].shift(1)\n",
    "    temp_df['sma_100_lag_1'] = temp_df['sma_100_r'].shift(1)\n",
    "    temp_df['sma_200_lag_1'] = temp_df['sma_200_r'].shift(1)\n",
    "\n",
    "\n",
    "        # Get above signals\n",
    "    temp_df['sma_above20'] = (temp_df['adj_close'] > sma_20).astype(int)\n",
    "    temp_df['sma_above50'] = (temp_df['adj_close'] > sma_50).astype(int)\n",
    "    temp_df['sma_above100'] = (temp_df['adj_close'] > sma_100).astype(int)\n",
    "    temp_df['sma_above200'] = (temp_df['adj_close'] > sma_200).astype(int)\n",
    "\n",
    "    temp_df['sma_10above20'] = (sma_10 > sma_20).astype(int)\n",
    "    temp_df['sma_10above50'] = (sma_10 > sma_50).astype(int)\n",
    "    temp_df['sma_10above100'] = (sma_10 > sma_100).astype(int)\n",
    "    temp_df['sma_10above200'] = (sma_10 > sma_200).astype(int)\n",
    "\n",
    "    # Get bullish crossover signals\n",
    "    temp_df['sma_cut20'] = ((temp_df['adj_close_lag_1'] < temp_df['sma_20_lag_1']) & (temp_df['sma_above20']==True)).astype(int)\n",
    "    temp_df['sma_cut50'] = ((temp_df['adj_close_lag_1'] < temp_df['sma_50_lag_1']) & (temp_df['sma_above50']==True)).astype(int)\n",
    "    temp_df['sma_cut100'] = ((temp_df['adj_close_lag_1'] < temp_df['sma_100_lag_1']) & (temp_df['sma_above100']==True)).astype(int)\n",
    "    temp_df['sma_cut200'] = ((temp_df['adj_close_lag_1'] < temp_df['sma_200_lag_1']) & (temp_df['sma_above200']==True)).astype(int)\n",
    "\n",
    "    temp_df['sma_10cut20'] = ((temp_df['sma_10_lag_1'] < temp_df['sma_20_lag_1']) & (temp_df['sma_10above20']==True)).astype(int)\n",
    "    temp_df['sma_10cut50'] = ((temp_df['sma_10_lag_1'] < temp_df['sma_50_lag_1']) & (temp_df['sma_10above50']==True)).astype(int)\n",
    "    temp_df['sma_10cut100'] = ((temp_df['sma_10_lag_1'] < temp_df['sma_100_lag_1']) & (temp_df['sma_10above100']==True)).astype(int)\n",
    "    temp_df['sma_10cut200'] = ((temp_df['sma_10_lag_1'] < temp_df['sma_200_lag_1']) & (temp_df['sma_10above200']==True)).astype(int)\n",
    "\n",
    "    # Get bearish crossover signals\n",
    "    temp_df['sma_cut20down'] = ((temp_df['adj_close_lag_1'] > temp_df['sma_20_lag_1']) & (temp_df['adj_close'] < sma_20)).astype(int)\n",
    "    temp_df['sma_cut50down'] = ((temp_df['adj_close_lag_1'] > temp_df['sma_50_lag_1']) & (temp_df['adj_close'] < sma_50)).astype(int)\n",
    "    temp_df['sma_cut100down'] = ((temp_df['adj_close_lag_1'] > temp_df['sma_100_lag_1']) & (temp_df['adj_close'] < sma_100)).astype(int)\n",
    "    temp_df['sma_cut200down'] = ((temp_df['adj_close_lag_1'] > temp_df['sma_200_lag_1']) & (temp_df['adj_close'] < sma_200)).astype(int)\n",
    "\n",
    "    temp_df['sma_10cut20down'] = ((temp_df['sma_10_lag_1'] > temp_df['sma_20_lag_1']) & (sma_10 < sma_20)).astype(int)\n",
    "    temp_df['sma_10cut50down'] = ((temp_df['sma_10_lag_1'] > temp_df['sma_50_lag_1']) & (sma_10 < sma_50)).astype(int)\n",
    "    temp_df['sma_10cut100down'] = ((temp_df['sma_10_lag_1'] > temp_df['sma_100_lag_1']) & (sma_10 < sma_100)).astype(int)\n",
    "    temp_df['sma_10cut200down'] = ((temp_df['sma_10_lag_1'] > temp_df['sma_200_lag_1']) & (sma_10 < sma_200)).astype(int)\n",
    "\n",
    "    dfs[0].head()"
   ]
  },
  {
   "cell_type": "code",
   "execution_count": 8,
   "metadata": {},
   "outputs": [],
   "source": [
    "# Del unneccesary cols\n",
    "#for df in dfs:\n",
    "#    df.drop(['sma_10_lag_1', 'sma_20_lag_1', 'sma_50_lag_1', 'sma_100_lag_1', 'sma_200_lag_1'], axis=1, inplace=True)"
   ]
  },
  {
   "cell_type": "markdown",
   "metadata": {},
   "source": [
    "## Exponential Moving Average"
   ]
  },
  {
   "cell_type": "code",
   "execution_count": 9,
   "metadata": {},
   "outputs": [
    {
     "data": {
      "text/html": [
       "<div>\n",
       "<style scoped>\n",
       "    .dataframe tbody tr th:only-of-type {\n",
       "        vertical-align: middle;\n",
       "    }\n",
       "\n",
       "    .dataframe tbody tr th {\n",
       "        vertical-align: top;\n",
       "    }\n",
       "\n",
       "    .dataframe thead th {\n",
       "        text-align: right;\n",
       "    }\n",
       "</style>\n",
       "<table border=\"1\" class=\"dataframe\">\n",
       "  <thead>\n",
       "    <tr style=\"text-align: right;\">\n",
       "      <th></th>\n",
       "      <th>date</th>\n",
       "      <th>open</th>\n",
       "      <th>high</th>\n",
       "      <th>low</th>\n",
       "      <th>close</th>\n",
       "      <th>adj_close</th>\n",
       "      <th>volume</th>\n",
       "      <th>ticker</th>\n",
       "      <th>sector</th>\n",
       "      <th>daily_ret</th>\n",
       "      <th>...</th>\n",
       "      <th>ema_10cut100</th>\n",
       "      <th>ema_10cut200</th>\n",
       "      <th>ema_cut20down</th>\n",
       "      <th>ema_cut50down</th>\n",
       "      <th>ema_cut100down</th>\n",
       "      <th>ema_cut200down</th>\n",
       "      <th>ema_10cut20down</th>\n",
       "      <th>ema_10cut50down</th>\n",
       "      <th>ema_10cut100down</th>\n",
       "      <th>ema_10cut200down</th>\n",
       "    </tr>\n",
       "  </thead>\n",
       "  <tbody>\n",
       "    <tr>\n",
       "      <th>0</th>\n",
       "      <td>2016-07-27</td>\n",
       "      <td>1149.199951</td>\n",
       "      <td>1184.000000</td>\n",
       "      <td>1146.800049</td>\n",
       "      <td>1173.199951</td>\n",
       "      <td>909.810242</td>\n",
       "      <td>60774500</td>\n",
       "      <td>7203.T</td>\n",
       "      <td>自動車・自動車部品</td>\n",
       "      <td>-0.119339</td>\n",
       "      <td>...</td>\n",
       "      <td>0</td>\n",
       "      <td>0</td>\n",
       "      <td>0</td>\n",
       "      <td>0</td>\n",
       "      <td>0</td>\n",
       "      <td>0</td>\n",
       "      <td>0</td>\n",
       "      <td>0</td>\n",
       "      <td>0</td>\n",
       "      <td>0</td>\n",
       "    </tr>\n",
       "    <tr>\n",
       "      <th>1</th>\n",
       "      <td>2016-07-28</td>\n",
       "      <td>1163.000000</td>\n",
       "      <td>1176.400024</td>\n",
       "      <td>1161.599976</td>\n",
       "      <td>1171.800049</td>\n",
       "      <td>908.724487</td>\n",
       "      <td>42386500</td>\n",
       "      <td>7203.T</td>\n",
       "      <td>自動車・自動車部品</td>\n",
       "      <td>0.597372</td>\n",
       "      <td>...</td>\n",
       "      <td>0</td>\n",
       "      <td>0</td>\n",
       "      <td>0</td>\n",
       "      <td>0</td>\n",
       "      <td>0</td>\n",
       "      <td>0</td>\n",
       "      <td>0</td>\n",
       "      <td>0</td>\n",
       "      <td>0</td>\n",
       "      <td>0</td>\n",
       "    </tr>\n",
       "    <tr>\n",
       "      <th>2</th>\n",
       "      <td>2016-07-29</td>\n",
       "      <td>1151.800049</td>\n",
       "      <td>1182.000000</td>\n",
       "      <td>1141.599976</td>\n",
       "      <td>1178.800049</td>\n",
       "      <td>914.152954</td>\n",
       "      <td>81390500</td>\n",
       "      <td>7203.T</td>\n",
       "      <td>自動車・自動車部品</td>\n",
       "      <td>-1.645744</td>\n",
       "      <td>...</td>\n",
       "      <td>0</td>\n",
       "      <td>0</td>\n",
       "      <td>0</td>\n",
       "      <td>0</td>\n",
       "      <td>0</td>\n",
       "      <td>0</td>\n",
       "      <td>0</td>\n",
       "      <td>0</td>\n",
       "      <td>0</td>\n",
       "      <td>0</td>\n",
       "    </tr>\n",
       "    <tr>\n",
       "      <th>3</th>\n",
       "      <td>2016-08-01</td>\n",
       "      <td>1143.000000</td>\n",
       "      <td>1166.000000</td>\n",
       "      <td>1140.800049</td>\n",
       "      <td>1159.400024</td>\n",
       "      <td>899.108337</td>\n",
       "      <td>47061500</td>\n",
       "      <td>7203.T</td>\n",
       "      <td>自動車・自動車部品</td>\n",
       "      <td>-1.742293</td>\n",
       "      <td>...</td>\n",
       "      <td>0</td>\n",
       "      <td>0</td>\n",
       "      <td>0</td>\n",
       "      <td>0</td>\n",
       "      <td>0</td>\n",
       "      <td>0</td>\n",
       "      <td>0</td>\n",
       "      <td>0</td>\n",
       "      <td>0</td>\n",
       "      <td>0</td>\n",
       "    </tr>\n",
       "    <tr>\n",
       "      <th>4</th>\n",
       "      <td>2016-08-02</td>\n",
       "      <td>1148.000000</td>\n",
       "      <td>1154.800049</td>\n",
       "      <td>1139.000000</td>\n",
       "      <td>1139.199951</td>\n",
       "      <td>883.443237</td>\n",
       "      <td>46550000</td>\n",
       "      <td>7203.T</td>\n",
       "      <td>自動車・自動車部品</td>\n",
       "      <td>-1.878518</td>\n",
       "      <td>...</td>\n",
       "      <td>0</td>\n",
       "      <td>0</td>\n",
       "      <td>0</td>\n",
       "      <td>0</td>\n",
       "      <td>0</td>\n",
       "      <td>0</td>\n",
       "      <td>0</td>\n",
       "      <td>0</td>\n",
       "      <td>0</td>\n",
       "      <td>0</td>\n",
       "    </tr>\n",
       "  </tbody>\n",
       "</table>\n",
       "<p>5 rows × 82 columns</p>\n",
       "</div>"
      ],
      "text/plain": [
       "        date         open         high          low        close   adj_close  \\\n",
       "0 2016-07-27  1149.199951  1184.000000  1146.800049  1173.199951  909.810242   \n",
       "1 2016-07-28  1163.000000  1176.400024  1161.599976  1171.800049  908.724487   \n",
       "2 2016-07-29  1151.800049  1182.000000  1141.599976  1178.800049  914.152954   \n",
       "3 2016-08-01  1143.000000  1166.000000  1140.800049  1159.400024  899.108337   \n",
       "4 2016-08-02  1148.000000  1154.800049  1139.000000  1139.199951  883.443237   \n",
       "\n",
       "     volume  ticker     sector  daily_ret  ...  ema_10cut100  ema_10cut200  \\\n",
       "0  60774500  7203.T  自動車・自動車部品  -0.119339  ...             0             0   \n",
       "1  42386500  7203.T  自動車・自動車部品   0.597372  ...             0             0   \n",
       "2  81390500  7203.T  自動車・自動車部品  -1.645744  ...             0             0   \n",
       "3  47061500  7203.T  自動車・自動車部品  -1.742293  ...             0             0   \n",
       "4  46550000  7203.T  自動車・自動車部品  -1.878518  ...             0             0   \n",
       "\n",
       "   ema_cut20down  ema_cut50down  ema_cut100down  ema_cut200down  \\\n",
       "0              0              0               0               0   \n",
       "1              0              0               0               0   \n",
       "2              0              0               0               0   \n",
       "3              0              0               0               0   \n",
       "4              0              0               0               0   \n",
       "\n",
       "   ema_10cut20down  ema_10cut50down  ema_10cut100down  ema_10cut200down  \n",
       "0                0                0                 0                 0  \n",
       "1                0                0                 0                 0  \n",
       "2                0                0                 0                 0  \n",
       "3                0                0                 0                 0  \n",
       "4                0                0                 0                 0  \n",
       "\n",
       "[5 rows x 82 columns]"
      ]
     },
     "execution_count": 9,
     "metadata": {},
     "output_type": "execute_result"
    }
   ],
   "source": [
    "for df in dfs:\n",
    "    # Exponential moving average\n",
    "    ema_10 = talib.EMA(df['adj_close'], 10)\n",
    "    ema_20 = talib.EMA(df['adj_close'], 20)\n",
    "    ema_50 = talib.EMA(df['adj_close'], 50)\n",
    "    ema_100 = talib.EMA(df['adj_close'], 100)\n",
    "    ema_200 = talib.EMA(df['adj_close'], 200)\n",
    "\n",
    "    df['ema_10_r'] = (df['adj_close'] - ema_10)/ema_10 * 100\n",
    "    df['ema_20_r'] = (df['adj_close'] - ema_20)/ema_20 * 100\n",
    "    df['ema_50_r'] = (df['adj_close'] - ema_50)/ema_50 * 100\n",
    "    df['ema_100_r'] = (df['adj_close'] - ema_100)/ema_100 * 100\n",
    "    df['ema_200_r'] = (df['adj_close'] - ema_200)/ema_200 * 100\n",
    "\n",
    "    # Get the ema on the previous day\n",
    "    df['ema_10_lag_1'] = df['ema_10_r'].shift(1)\n",
    "    df['ema_20_lag_1'] = df['ema_20_r'].shift(1)\n",
    "    df['ema_50_lag_1'] = df['ema_50_r'].shift(1)\n",
    "    df['ema_100_lag_1'] = df['ema_100_r'].shift(1)\n",
    "    df['ema_200_lag_1'] = df['ema_200_r'].shift(1)\n",
    "\n",
    "\n",
    "        # Get above signals\n",
    "    df['ema_above20'] = (df['adj_close'] > ema_20).astype(int)\n",
    "    df['ema_above50'] = (df['adj_close'] > ema_50).astype(int)\n",
    "    df['ema_above100'] = (df['adj_close'] > ema_100).astype(int)\n",
    "    df['ema_above200'] = (df['adj_close'] > ema_200).astype(int)\n",
    "\n",
    "    df['ema_10above20'] = (ema_10 > ema_20).astype(int)\n",
    "    df['ema_10above50'] = (ema_10 > ema_50).astype(int)\n",
    "    df['ema_10above100'] = (ema_10 > ema_100).astype(int)\n",
    "    df['ema_10above200'] = (ema_10 > ema_200).astype(int)\n",
    "\n",
    "    # Get bullish crossover signals\n",
    "    df['ema_cut20'] = ((df['adj_close_lag_1'] < df['ema_20_lag_1']) & (df['ema_above20']==True)).astype(int)\n",
    "    df['ema_cut50'] = ((df['adj_close_lag_1'] < df['ema_50_lag_1']) & (df['ema_above50']==True)).astype(int)\n",
    "    df['ema_cut100'] = ((df['adj_close_lag_1'] < df['ema_100_lag_1']) & (df['ema_above100']==True)).astype(int)\n",
    "    df['ema_cut200'] = ((df['adj_close_lag_1'] < df['ema_200_lag_1']) & (df['ema_above200']==True)).astype(int)\n",
    "\n",
    "    df['ema_10cut20'] = ((df['ema_10_lag_1'] < df['ema_20_lag_1']) & (df['ema_10above20']==True)).astype(int)\n",
    "    df['ema_10cut50'] = ((df['ema_10_lag_1'] < df['ema_50_lag_1']) & (df['ema_10above50']==True)).astype(int)\n",
    "    df['ema_10cut100'] = ((df['ema_10_lag_1'] < df['ema_100_lag_1']) & (df['ema_10above100']==True)).astype(int)\n",
    "    df['ema_10cut200'] = ((df['ema_10_lag_1'] < df['ema_200_lag_1']) & (df['ema_10above200']==True)).astype(int)\n",
    "\n",
    "    # Get bearish crossover signals\n",
    "    df['ema_cut20down'] = ((df['adj_close_lag_1'] > df['ema_20_lag_1']) & (df['adj_close'] < ema_20)).astype(int)\n",
    "    df['ema_cut50down'] = ((df['adj_close_lag_1'] > df['ema_50_lag_1']) & (df['adj_close'] < ema_50)).astype(int)\n",
    "    df['ema_cut100down'] = ((df['adj_close_lag_1'] > df['ema_100_lag_1']) & (df['adj_close'] < ema_100)).astype(int)\n",
    "    df['ema_cut200down'] = ((df['adj_close_lag_1'] > df['ema_200_lag_1']) & (df['adj_close'] < ema_200)).astype(int)\n",
    "\n",
    "    df['ema_10cut20down'] = ((df['ema_10_lag_1'] > df['ema_20_lag_1']) & (ema_10 < ema_20)).astype(int)\n",
    "    df['ema_10cut50down'] = ((df['ema_10_lag_1'] > df['ema_50_lag_1']) & (ema_10 < ema_50)).astype(int)\n",
    "    df['ema_10cut100down'] = ((df['ema_10_lag_1'] > df['ema_100_lag_1']) & (ema_10 < ema_100)).astype(int)\n",
    "    df['ema_10cut200down'] = ((df['ema_10_lag_1'] > df['ema_200_lag_1']) & (ema_10 < ema_200)).astype(int)\n",
    "\n",
    "dfs[0].head()"
   ]
  },
  {
   "cell_type": "code",
   "execution_count": 10,
   "metadata": {},
   "outputs": [],
   "source": [
    "# Del unneccesary cols\n",
    "for df in dfs:\n",
    "    df.drop(['ema_10_lag_1', 'ema_20_lag_1', 'ema_50_lag_1', 'ema_100_lag_1', 'ema_200_lag_1'], axis=1, inplace=True)"
   ]
  },
  {
   "cell_type": "markdown",
   "metadata": {},
   "source": [
    "## Moving Average Convergence Divergence\n",
    "\n",
    "Implemented according to the definition in Investopedia:\n",
    "https://www.investopedia.com/terms/m/macd.asp"
   ]
  },
  {
   "cell_type": "code",
   "execution_count": 11,
   "metadata": {},
   "outputs": [
    {
     "data": {
      "application/vnd.jupyter.widget-view+json": {
       "model_id": "0ab2465301f04b119f5c070df46db3ea",
       "version_major": 2,
       "version_minor": 0
      },
      "text/plain": [
       "  0%|          | 0/300 [00:00<?, ?it/s]"
      ]
     },
     "metadata": {},
     "output_type": "display_data"
    },
    {
     "data": {
      "text/html": [
       "<div>\n",
       "<style scoped>\n",
       "    .dataframe tbody tr th:only-of-type {\n",
       "        vertical-align: middle;\n",
       "    }\n",
       "\n",
       "    .dataframe tbody tr th {\n",
       "        vertical-align: top;\n",
       "    }\n",
       "\n",
       "    .dataframe thead th {\n",
       "        text-align: right;\n",
       "    }\n",
       "</style>\n",
       "<table border=\"1\" class=\"dataframe\">\n",
       "  <thead>\n",
       "    <tr style=\"text-align: right;\">\n",
       "      <th></th>\n",
       "      <th>date</th>\n",
       "      <th>open</th>\n",
       "      <th>high</th>\n",
       "      <th>low</th>\n",
       "      <th>close</th>\n",
       "      <th>adj_close</th>\n",
       "      <th>volume</th>\n",
       "      <th>ticker</th>\n",
       "      <th>sector</th>\n",
       "      <th>daily_ret</th>\n",
       "      <th>...</th>\n",
       "      <th>ema_10cut20down</th>\n",
       "      <th>ema_10cut50down</th>\n",
       "      <th>ema_10cut100down</th>\n",
       "      <th>ema_10cut200down</th>\n",
       "      <th>macd</th>\n",
       "      <th>macd_signal</th>\n",
       "      <th>macd_lag_1</th>\n",
       "      <th>macd_signal_lag_1</th>\n",
       "      <th>macd_crossover</th>\n",
       "      <th>macd_crossoverdown</th>\n",
       "    </tr>\n",
       "  </thead>\n",
       "  <tbody>\n",
       "    <tr>\n",
       "      <th>0</th>\n",
       "      <td>2016-07-27</td>\n",
       "      <td>1149.199951</td>\n",
       "      <td>1184.000000</td>\n",
       "      <td>1146.800049</td>\n",
       "      <td>1173.199951</td>\n",
       "      <td>909.810242</td>\n",
       "      <td>60774500</td>\n",
       "      <td>7203.T</td>\n",
       "      <td>自動車・自動車部品</td>\n",
       "      <td>-0.119339</td>\n",
       "      <td>...</td>\n",
       "      <td>0</td>\n",
       "      <td>0</td>\n",
       "      <td>0</td>\n",
       "      <td>0</td>\n",
       "      <td>NaN</td>\n",
       "      <td>NaN</td>\n",
       "      <td>NaN</td>\n",
       "      <td>NaN</td>\n",
       "      <td>0</td>\n",
       "      <td>0</td>\n",
       "    </tr>\n",
       "    <tr>\n",
       "      <th>1</th>\n",
       "      <td>2016-07-28</td>\n",
       "      <td>1163.000000</td>\n",
       "      <td>1176.400024</td>\n",
       "      <td>1161.599976</td>\n",
       "      <td>1171.800049</td>\n",
       "      <td>908.724487</td>\n",
       "      <td>42386500</td>\n",
       "      <td>7203.T</td>\n",
       "      <td>自動車・自動車部品</td>\n",
       "      <td>0.597372</td>\n",
       "      <td>...</td>\n",
       "      <td>0</td>\n",
       "      <td>0</td>\n",
       "      <td>0</td>\n",
       "      <td>0</td>\n",
       "      <td>NaN</td>\n",
       "      <td>NaN</td>\n",
       "      <td>NaN</td>\n",
       "      <td>NaN</td>\n",
       "      <td>0</td>\n",
       "      <td>0</td>\n",
       "    </tr>\n",
       "    <tr>\n",
       "      <th>2</th>\n",
       "      <td>2016-07-29</td>\n",
       "      <td>1151.800049</td>\n",
       "      <td>1182.000000</td>\n",
       "      <td>1141.599976</td>\n",
       "      <td>1178.800049</td>\n",
       "      <td>914.152954</td>\n",
       "      <td>81390500</td>\n",
       "      <td>7203.T</td>\n",
       "      <td>自動車・自動車部品</td>\n",
       "      <td>-1.645744</td>\n",
       "      <td>...</td>\n",
       "      <td>0</td>\n",
       "      <td>0</td>\n",
       "      <td>0</td>\n",
       "      <td>0</td>\n",
       "      <td>NaN</td>\n",
       "      <td>NaN</td>\n",
       "      <td>NaN</td>\n",
       "      <td>NaN</td>\n",
       "      <td>0</td>\n",
       "      <td>0</td>\n",
       "    </tr>\n",
       "    <tr>\n",
       "      <th>3</th>\n",
       "      <td>2016-08-01</td>\n",
       "      <td>1143.000000</td>\n",
       "      <td>1166.000000</td>\n",
       "      <td>1140.800049</td>\n",
       "      <td>1159.400024</td>\n",
       "      <td>899.108337</td>\n",
       "      <td>47061500</td>\n",
       "      <td>7203.T</td>\n",
       "      <td>自動車・自動車部品</td>\n",
       "      <td>-1.742293</td>\n",
       "      <td>...</td>\n",
       "      <td>0</td>\n",
       "      <td>0</td>\n",
       "      <td>0</td>\n",
       "      <td>0</td>\n",
       "      <td>NaN</td>\n",
       "      <td>NaN</td>\n",
       "      <td>NaN</td>\n",
       "      <td>NaN</td>\n",
       "      <td>0</td>\n",
       "      <td>0</td>\n",
       "    </tr>\n",
       "    <tr>\n",
       "      <th>4</th>\n",
       "      <td>2016-08-02</td>\n",
       "      <td>1148.000000</td>\n",
       "      <td>1154.800049</td>\n",
       "      <td>1139.000000</td>\n",
       "      <td>1139.199951</td>\n",
       "      <td>883.443237</td>\n",
       "      <td>46550000</td>\n",
       "      <td>7203.T</td>\n",
       "      <td>自動車・自動車部品</td>\n",
       "      <td>-1.878518</td>\n",
       "      <td>...</td>\n",
       "      <td>0</td>\n",
       "      <td>0</td>\n",
       "      <td>0</td>\n",
       "      <td>0</td>\n",
       "      <td>NaN</td>\n",
       "      <td>NaN</td>\n",
       "      <td>NaN</td>\n",
       "      <td>NaN</td>\n",
       "      <td>0</td>\n",
       "      <td>0</td>\n",
       "    </tr>\n",
       "  </tbody>\n",
       "</table>\n",
       "<p>5 rows × 83 columns</p>\n",
       "</div>"
      ],
      "text/plain": [
       "        date         open         high          low        close   adj_close  \\\n",
       "0 2016-07-27  1149.199951  1184.000000  1146.800049  1173.199951  909.810242   \n",
       "1 2016-07-28  1163.000000  1176.400024  1161.599976  1171.800049  908.724487   \n",
       "2 2016-07-29  1151.800049  1182.000000  1141.599976  1178.800049  914.152954   \n",
       "3 2016-08-01  1143.000000  1166.000000  1140.800049  1159.400024  899.108337   \n",
       "4 2016-08-02  1148.000000  1154.800049  1139.000000  1139.199951  883.443237   \n",
       "\n",
       "     volume  ticker     sector  daily_ret  ...  ema_10cut20down  \\\n",
       "0  60774500  7203.T  自動車・自動車部品  -0.119339  ...                0   \n",
       "1  42386500  7203.T  自動車・自動車部品   0.597372  ...                0   \n",
       "2  81390500  7203.T  自動車・自動車部品  -1.645744  ...                0   \n",
       "3  47061500  7203.T  自動車・自動車部品  -1.742293  ...                0   \n",
       "4  46550000  7203.T  自動車・自動車部品  -1.878518  ...                0   \n",
       "\n",
       "   ema_10cut50down  ema_10cut100down  ema_10cut200down  macd  macd_signal  \\\n",
       "0                0                 0                 0   NaN          NaN   \n",
       "1                0                 0                 0   NaN          NaN   \n",
       "2                0                 0                 0   NaN          NaN   \n",
       "3                0                 0                 0   NaN          NaN   \n",
       "4                0                 0                 0   NaN          NaN   \n",
       "\n",
       "   macd_lag_1  macd_signal_lag_1  macd_crossover  macd_crossoverdown  \n",
       "0         NaN                NaN               0                   0  \n",
       "1         NaN                NaN               0                   0  \n",
       "2         NaN                NaN               0                   0  \n",
       "3         NaN                NaN               0                   0  \n",
       "4         NaN                NaN               0                   0  \n",
       "\n",
       "[5 rows x 83 columns]"
      ]
     },
     "execution_count": 11,
     "metadata": {},
     "output_type": "execute_result"
    }
   ],
   "source": [
    "for df in tqdm_notebook(dfs):\n",
    "    fast_period = 12\n",
    "    slow_period = 26\n",
    "    signal_period = 9\n",
    "    macd, macd_signal, _ = talib.MACD(df['adj_close'], fast_period, slow_period, signal_period)\n",
    "\n",
    "    df['macd'] = macd\n",
    "    df['macd_signal'] = macd_signal\n",
    "\n",
    "    # Get the macd on the previous day\n",
    "    df['macd_lag_1'] = macd.shift(1)\n",
    "    df['macd_signal_lag_1'] = macd_signal.shift(1)\n",
    "\n",
    "    # Get bullish crossover signals\n",
    "    df['macd_crossover'] = ((df['macd_lag_1'] < df['macd_signal_lag_1']) & \\\n",
    "                            (df['macd'] > df['macd_signal'])).astype(int)\n",
    "\n",
    "    # Get bearish crossover signals\n",
    "    df['macd_crossoverdown'] = ((df['macd_lag_1'] > df['macd_signal_lag_1']) & \\\n",
    "                            (df['macd'] < df['macd_signal'])).astype(int)\n",
    "\n",
    "dfs[0].head()"
   ]
  },
  {
   "cell_type": "code",
   "execution_count": 12,
   "metadata": {},
   "outputs": [],
   "source": [
    "# Del unneccesary cols\n",
    "for df in dfs:\n",
    "    df.drop(['macd_signal', \n",
    "        #'macd_lag_1', 'macd_signal_lag_1'\n",
    "        ], axis=1, inplace=True)"
   ]
  },
  {
   "cell_type": "markdown",
   "metadata": {},
   "source": [
    "## Stochastic Oscillator\n",
    "Implemented according to the definition in Investopedia:\n",
    "https://www.investopedia.com/terms/s/stochasticoscillator.asp#:~:text=A%20stochastic%20oscillator%20is%20a,moving%20average%20of%20the%20result."
   ]
  },
  {
   "cell_type": "code",
   "execution_count": 13,
   "metadata": {},
   "outputs": [
    {
     "data": {
      "application/vnd.jupyter.widget-view+json": {
       "model_id": "298b39292b0a4fde96f0b38031f10dca",
       "version_major": 2,
       "version_minor": 0
      },
      "text/plain": [
       "  0%|          | 0/300 [00:00<?, ?it/s]"
      ]
     },
     "metadata": {},
     "output_type": "display_data"
    },
    {
     "data": {
      "text/html": [
       "<div>\n",
       "<style scoped>\n",
       "    .dataframe tbody tr th:only-of-type {\n",
       "        vertical-align: middle;\n",
       "    }\n",
       "\n",
       "    .dataframe tbody tr th {\n",
       "        vertical-align: top;\n",
       "    }\n",
       "\n",
       "    .dataframe thead th {\n",
       "        text-align: right;\n",
       "    }\n",
       "</style>\n",
       "<table border=\"1\" class=\"dataframe\">\n",
       "  <thead>\n",
       "    <tr style=\"text-align: right;\">\n",
       "      <th></th>\n",
       "      <th>date</th>\n",
       "      <th>open</th>\n",
       "      <th>high</th>\n",
       "      <th>low</th>\n",
       "      <th>close</th>\n",
       "      <th>adj_close</th>\n",
       "      <th>volume</th>\n",
       "      <th>ticker</th>\n",
       "      <th>sector</th>\n",
       "      <th>daily_ret</th>\n",
       "      <th>...</th>\n",
       "      <th>macd_crossover</th>\n",
       "      <th>macd_crossoverdown</th>\n",
       "      <th>stochastic_fast</th>\n",
       "      <th>stochastic_slow</th>\n",
       "      <th>stochastic_fast_lag_1</th>\n",
       "      <th>stochastic_slow_lag_1</th>\n",
       "      <th>stochastic_fastcutslow</th>\n",
       "      <th>stochastic_fastcutslowdown</th>\n",
       "      <th>stochastic_overs</th>\n",
       "      <th>stochastic_overb</th>\n",
       "    </tr>\n",
       "  </thead>\n",
       "  <tbody>\n",
       "    <tr>\n",
       "      <th>0</th>\n",
       "      <td>2016-07-27</td>\n",
       "      <td>1149.199951</td>\n",
       "      <td>1184.000000</td>\n",
       "      <td>1146.800049</td>\n",
       "      <td>1173.199951</td>\n",
       "      <td>909.810242</td>\n",
       "      <td>60774500</td>\n",
       "      <td>7203.T</td>\n",
       "      <td>自動車・自動車部品</td>\n",
       "      <td>-0.119339</td>\n",
       "      <td>...</td>\n",
       "      <td>0</td>\n",
       "      <td>0</td>\n",
       "      <td>NaN</td>\n",
       "      <td>NaN</td>\n",
       "      <td>NaN</td>\n",
       "      <td>NaN</td>\n",
       "      <td>0</td>\n",
       "      <td>0</td>\n",
       "      <td>0</td>\n",
       "      <td>0</td>\n",
       "    </tr>\n",
       "    <tr>\n",
       "      <th>1</th>\n",
       "      <td>2016-07-28</td>\n",
       "      <td>1163.000000</td>\n",
       "      <td>1176.400024</td>\n",
       "      <td>1161.599976</td>\n",
       "      <td>1171.800049</td>\n",
       "      <td>908.724487</td>\n",
       "      <td>42386500</td>\n",
       "      <td>7203.T</td>\n",
       "      <td>自動車・自動車部品</td>\n",
       "      <td>0.597372</td>\n",
       "      <td>...</td>\n",
       "      <td>0</td>\n",
       "      <td>0</td>\n",
       "      <td>NaN</td>\n",
       "      <td>NaN</td>\n",
       "      <td>NaN</td>\n",
       "      <td>NaN</td>\n",
       "      <td>0</td>\n",
       "      <td>0</td>\n",
       "      <td>0</td>\n",
       "      <td>0</td>\n",
       "    </tr>\n",
       "    <tr>\n",
       "      <th>2</th>\n",
       "      <td>2016-07-29</td>\n",
       "      <td>1151.800049</td>\n",
       "      <td>1182.000000</td>\n",
       "      <td>1141.599976</td>\n",
       "      <td>1178.800049</td>\n",
       "      <td>914.152954</td>\n",
       "      <td>81390500</td>\n",
       "      <td>7203.T</td>\n",
       "      <td>自動車・自動車部品</td>\n",
       "      <td>-1.645744</td>\n",
       "      <td>...</td>\n",
       "      <td>0</td>\n",
       "      <td>0</td>\n",
       "      <td>NaN</td>\n",
       "      <td>NaN</td>\n",
       "      <td>NaN</td>\n",
       "      <td>NaN</td>\n",
       "      <td>0</td>\n",
       "      <td>0</td>\n",
       "      <td>0</td>\n",
       "      <td>0</td>\n",
       "    </tr>\n",
       "    <tr>\n",
       "      <th>3</th>\n",
       "      <td>2016-08-01</td>\n",
       "      <td>1143.000000</td>\n",
       "      <td>1166.000000</td>\n",
       "      <td>1140.800049</td>\n",
       "      <td>1159.400024</td>\n",
       "      <td>899.108337</td>\n",
       "      <td>47061500</td>\n",
       "      <td>7203.T</td>\n",
       "      <td>自動車・自動車部品</td>\n",
       "      <td>-1.742293</td>\n",
       "      <td>...</td>\n",
       "      <td>0</td>\n",
       "      <td>0</td>\n",
       "      <td>NaN</td>\n",
       "      <td>NaN</td>\n",
       "      <td>NaN</td>\n",
       "      <td>NaN</td>\n",
       "      <td>0</td>\n",
       "      <td>0</td>\n",
       "      <td>0</td>\n",
       "      <td>0</td>\n",
       "    </tr>\n",
       "    <tr>\n",
       "      <th>4</th>\n",
       "      <td>2016-08-02</td>\n",
       "      <td>1148.000000</td>\n",
       "      <td>1154.800049</td>\n",
       "      <td>1139.000000</td>\n",
       "      <td>1139.199951</td>\n",
       "      <td>883.443237</td>\n",
       "      <td>46550000</td>\n",
       "      <td>7203.T</td>\n",
       "      <td>自動車・自動車部品</td>\n",
       "      <td>-1.878518</td>\n",
       "      <td>...</td>\n",
       "      <td>0</td>\n",
       "      <td>0</td>\n",
       "      <td>NaN</td>\n",
       "      <td>NaN</td>\n",
       "      <td>NaN</td>\n",
       "      <td>NaN</td>\n",
       "      <td>0</td>\n",
       "      <td>0</td>\n",
       "      <td>0</td>\n",
       "      <td>0</td>\n",
       "    </tr>\n",
       "  </tbody>\n",
       "</table>\n",
       "<p>5 rows × 90 columns</p>\n",
       "</div>"
      ],
      "text/plain": [
       "        date         open         high          low        close   adj_close  \\\n",
       "0 2016-07-27  1149.199951  1184.000000  1146.800049  1173.199951  909.810242   \n",
       "1 2016-07-28  1163.000000  1176.400024  1161.599976  1171.800049  908.724487   \n",
       "2 2016-07-29  1151.800049  1182.000000  1141.599976  1178.800049  914.152954   \n",
       "3 2016-08-01  1143.000000  1166.000000  1140.800049  1159.400024  899.108337   \n",
       "4 2016-08-02  1148.000000  1154.800049  1139.000000  1139.199951  883.443237   \n",
       "\n",
       "     volume  ticker     sector  daily_ret  ...  macd_crossover  \\\n",
       "0  60774500  7203.T  自動車・自動車部品  -0.119339  ...               0   \n",
       "1  42386500  7203.T  自動車・自動車部品   0.597372  ...               0   \n",
       "2  81390500  7203.T  自動車・自動車部品  -1.645744  ...               0   \n",
       "3  47061500  7203.T  自動車・自動車部品  -1.742293  ...               0   \n",
       "4  46550000  7203.T  自動車・自動車部品  -1.878518  ...               0   \n",
       "\n",
       "   macd_crossoverdown  stochastic_fast  stochastic_slow  \\\n",
       "0                   0              NaN              NaN   \n",
       "1                   0              NaN              NaN   \n",
       "2                   0              NaN              NaN   \n",
       "3                   0              NaN              NaN   \n",
       "4                   0              NaN              NaN   \n",
       "\n",
       "   stochastic_fast_lag_1  stochastic_slow_lag_1  stochastic_fastcutslow  \\\n",
       "0                    NaN                    NaN                       0   \n",
       "1                    NaN                    NaN                       0   \n",
       "2                    NaN                    NaN                       0   \n",
       "3                    NaN                    NaN                       0   \n",
       "4                    NaN                    NaN                       0   \n",
       "\n",
       "   stochastic_fastcutslowdown  stochastic_overs  stochastic_overb  \n",
       "0                           0                 0                 0  \n",
       "1                           0                 0                 0  \n",
       "2                           0                 0                 0  \n",
       "3                           0                 0                 0  \n",
       "4                           0                 0                 0  \n",
       "\n",
       "[5 rows x 90 columns]"
      ]
     },
     "execution_count": 13,
     "metadata": {},
     "output_type": "execute_result"
    }
   ],
   "source": [
    "for df in tqdm_notebook(dfs):\n",
    "    # Generate fast and slow stochastic oscillators\n",
    "    df['stochastic_fast'], df['stochastic_slow'] = talib.STOCH(df['high'], df['low'], df['close'], fastk_period=14, slowk_period=3,\n",
    "                        slowk_matype=0, slowd_period=3, slowd_matype=0)\n",
    "\n",
    "    # Get the stochastics on the previous day\n",
    "    df['stochastic_fast_lag_1'] = df['stochastic_fast'].shift(1)\n",
    "    df['stochastic_slow_lag_1'] = df['stochastic_slow'].shift(1)\n",
    "\n",
    "    # Get bullish crossover signals\n",
    "    df['stochastic_fastcutslow'] = ((df['stochastic_fast_lag_1'] < df['stochastic_slow_lag_1']) & \\\n",
    "                                    (df['stochastic_fast'] > df['stochastic_slow'])).astype(int)\n",
    "\n",
    "    # Get bearish crossover signals\n",
    "    df['stochastic_fastcutslowdown'] = ((df['stochastic_fast_lag_1'] > df['stochastic_slow_lag_1']) & \\\n",
    "                                    (df['stochastic_fast'] < df['stochastic_slow'])).astype(int)\n",
    "\n",
    "    # Get overbought/oversold signals\n",
    "    df['stochastic_overs'] = (df['stochastic_fast'] < 20).astype(int)\n",
    "    df['stochastic_overb'] = (df['stochastic_fast'] > 80).astype(int)\n",
    "\n",
    "dfs[0].head()"
   ]
  },
  {
   "cell_type": "code",
   "execution_count": 14,
   "metadata": {},
   "outputs": [],
   "source": [
    "# Del unneccesary cols\n",
    "for df in dfs:\n",
    "    df.drop([#'lowest_14',\n",
    "             #'highest_14',\n",
    "             'stochastic_fast_lag_1',\n",
    "             'stochastic_slow_lag_1'], axis=1, inplace=True)"
   ]
  },
  {
   "cell_type": "markdown",
   "metadata": {},
   "source": [
    "## Relative Strength Index\n",
    "Implemented according to:\n",
    "\n",
    "https://www.investopedia.com/terms/r/rsi.asp\n",
    "\n",
    "https://school.stockcharts.com/doku.php?id=technical_indicators:relative_strength_index_rsi"
   ]
  },
  {
   "cell_type": "code",
   "execution_count": 15,
   "metadata": {},
   "outputs": [
    {
     "data": {
      "application/vnd.jupyter.widget-view+json": {
       "model_id": "833016d3517849d09e5f6ddc52a6292d",
       "version_major": 2,
       "version_minor": 0
      },
      "text/plain": [
       "  0%|          | 0/300 [00:00<?, ?it/s]"
      ]
     },
     "metadata": {},
     "output_type": "display_data"
    },
    {
     "data": {
      "text/html": [
       "<div>\n",
       "<style scoped>\n",
       "    .dataframe tbody tr th:only-of-type {\n",
       "        vertical-align: middle;\n",
       "    }\n",
       "\n",
       "    .dataframe tbody tr th {\n",
       "        vertical-align: top;\n",
       "    }\n",
       "\n",
       "    .dataframe thead th {\n",
       "        text-align: right;\n",
       "    }\n",
       "</style>\n",
       "<table border=\"1\" class=\"dataframe\">\n",
       "  <thead>\n",
       "    <tr style=\"text-align: right;\">\n",
       "      <th></th>\n",
       "      <th>date</th>\n",
       "      <th>open</th>\n",
       "      <th>high</th>\n",
       "      <th>low</th>\n",
       "      <th>close</th>\n",
       "      <th>adj_close</th>\n",
       "      <th>volume</th>\n",
       "      <th>ticker</th>\n",
       "      <th>sector</th>\n",
       "      <th>daily_ret</th>\n",
       "      <th>...</th>\n",
       "      <th>macd_crossoverdown</th>\n",
       "      <th>stochastic_fast</th>\n",
       "      <th>stochastic_slow</th>\n",
       "      <th>stochastic_fastcutslow</th>\n",
       "      <th>stochastic_fastcutslowdown</th>\n",
       "      <th>stochastic_overs</th>\n",
       "      <th>stochastic_overb</th>\n",
       "      <th>rsi</th>\n",
       "      <th>rsi_ob</th>\n",
       "      <th>rsi_os</th>\n",
       "    </tr>\n",
       "  </thead>\n",
       "  <tbody>\n",
       "    <tr>\n",
       "      <th>20</th>\n",
       "      <td>2016-08-25</td>\n",
       "      <td>1220.000000</td>\n",
       "      <td>1225.400024</td>\n",
       "      <td>1214.599976</td>\n",
       "      <td>1223.199951</td>\n",
       "      <td>948.584717</td>\n",
       "      <td>33962500</td>\n",
       "      <td>7203.T</td>\n",
       "      <td>自動車・自動車部品</td>\n",
       "      <td>-3.351866</td>\n",
       "      <td>...</td>\n",
       "      <td>0</td>\n",
       "      <td>92.321411</td>\n",
       "      <td>91.883354</td>\n",
       "      <td>0</td>\n",
       "      <td>0</td>\n",
       "      <td>0</td>\n",
       "      <td>1</td>\n",
       "      <td>57.788686</td>\n",
       "      <td>0</td>\n",
       "      <td>0</td>\n",
       "    </tr>\n",
       "    <tr>\n",
       "      <th>21</th>\n",
       "      <td>2016-08-26</td>\n",
       "      <td>1200.000000</td>\n",
       "      <td>1201.599976</td>\n",
       "      <td>1182.199951</td>\n",
       "      <td>1182.199951</td>\n",
       "      <td>916.789429</td>\n",
       "      <td>60470500</td>\n",
       "      <td>7203.T</td>\n",
       "      <td>自動車・自動車部品</td>\n",
       "      <td>3.992576</td>\n",
       "      <td>...</td>\n",
       "      <td>0</td>\n",
       "      <td>71.073627</td>\n",
       "      <td>85.394103</td>\n",
       "      <td>0</td>\n",
       "      <td>1</td>\n",
       "      <td>0</td>\n",
       "      <td>0</td>\n",
       "      <td>48.967202</td>\n",
       "      <td>0</td>\n",
       "      <td>0</td>\n",
       "    </tr>\n",
       "    <tr>\n",
       "      <th>22</th>\n",
       "      <td>2016-08-29</td>\n",
       "      <td>1221.199951</td>\n",
       "      <td>1237.199951</td>\n",
       "      <td>1216.400024</td>\n",
       "      <td>1229.400024</td>\n",
       "      <td>953.392944</td>\n",
       "      <td>57901500</td>\n",
       "      <td>7203.T</td>\n",
       "      <td>自動車・自動車部品</td>\n",
       "      <td>0.634434</td>\n",
       "      <td>...</td>\n",
       "      <td>0</td>\n",
       "      <td>67.376114</td>\n",
       "      <td>76.923718</td>\n",
       "      <td>0</td>\n",
       "      <td>0</td>\n",
       "      <td>0</td>\n",
       "      <td>0</td>\n",
       "      <td>57.088371</td>\n",
       "      <td>0</td>\n",
       "      <td>0</td>\n",
       "    </tr>\n",
       "    <tr>\n",
       "      <th>23</th>\n",
       "      <td>2016-08-30</td>\n",
       "      <td>1230.000000</td>\n",
       "      <td>1249.000000</td>\n",
       "      <td>1230.000000</td>\n",
       "      <td>1237.199951</td>\n",
       "      <td>959.441589</td>\n",
       "      <td>61693000</td>\n",
       "      <td>7203.T</td>\n",
       "      <td>自動車・自動車部品</td>\n",
       "      <td>0.840657</td>\n",
       "      <td>...</td>\n",
       "      <td>0</td>\n",
       "      <td>63.162211</td>\n",
       "      <td>67.203984</td>\n",
       "      <td>0</td>\n",
       "      <td>0</td>\n",
       "      <td>0</td>\n",
       "      <td>0</td>\n",
       "      <td>58.270149</td>\n",
       "      <td>0</td>\n",
       "      <td>0</td>\n",
       "    </tr>\n",
       "    <tr>\n",
       "      <th>24</th>\n",
       "      <td>2016-08-31</td>\n",
       "      <td>1260.000000</td>\n",
       "      <td>1270.599976</td>\n",
       "      <td>1247.599976</td>\n",
       "      <td>1247.599976</td>\n",
       "      <td>967.507202</td>\n",
       "      <td>70927000</td>\n",
       "      <td>7203.T</td>\n",
       "      <td>自動車・自動車部品</td>\n",
       "      <td>0.737381</td>\n",
       "      <td>...</td>\n",
       "      <td>0</td>\n",
       "      <td>82.877107</td>\n",
       "      <td>71.138477</td>\n",
       "      <td>1</td>\n",
       "      <td>0</td>\n",
       "      <td>0</td>\n",
       "      <td>1</td>\n",
       "      <td>59.857698</td>\n",
       "      <td>0</td>\n",
       "      <td>0</td>\n",
       "    </tr>\n",
       "  </tbody>\n",
       "</table>\n",
       "<p>5 rows × 91 columns</p>\n",
       "</div>"
      ],
      "text/plain": [
       "         date         open         high          low        close   adj_close  \\\n",
       "20 2016-08-25  1220.000000  1225.400024  1214.599976  1223.199951  948.584717   \n",
       "21 2016-08-26  1200.000000  1201.599976  1182.199951  1182.199951  916.789429   \n",
       "22 2016-08-29  1221.199951  1237.199951  1216.400024  1229.400024  953.392944   \n",
       "23 2016-08-30  1230.000000  1249.000000  1230.000000  1237.199951  959.441589   \n",
       "24 2016-08-31  1260.000000  1270.599976  1247.599976  1247.599976  967.507202   \n",
       "\n",
       "      volume  ticker     sector  daily_ret  ...  macd_crossoverdown  \\\n",
       "20  33962500  7203.T  自動車・自動車部品  -3.351866  ...                   0   \n",
       "21  60470500  7203.T  自動車・自動車部品   3.992576  ...                   0   \n",
       "22  57901500  7203.T  自動車・自動車部品   0.634434  ...                   0   \n",
       "23  61693000  7203.T  自動車・自動車部品   0.840657  ...                   0   \n",
       "24  70927000  7203.T  自動車・自動車部品   0.737381  ...                   0   \n",
       "\n",
       "    stochastic_fast  stochastic_slow  stochastic_fastcutslow  \\\n",
       "20        92.321411        91.883354                       0   \n",
       "21        71.073627        85.394103                       0   \n",
       "22        67.376114        76.923718                       0   \n",
       "23        63.162211        67.203984                       0   \n",
       "24        82.877107        71.138477                       1   \n",
       "\n",
       "    stochastic_fastcutslowdown  stochastic_overs  stochastic_overb        rsi  \\\n",
       "20                           0                 0                 1  57.788686   \n",
       "21                           1                 0                 0  48.967202   \n",
       "22                           0                 0                 0  57.088371   \n",
       "23                           0                 0                 0  58.270149   \n",
       "24                           0                 0                 1  59.857698   \n",
       "\n",
       "    rsi_ob  rsi_os  \n",
       "20       0       0  \n",
       "21       0       0  \n",
       "22       0       0  \n",
       "23       0       0  \n",
       "24       0       0  \n",
       "\n",
       "[5 rows x 91 columns]"
      ]
     },
     "execution_count": 15,
     "metadata": {},
     "output_type": "execute_result"
    }
   ],
   "source": [
    "for df in tqdm_notebook(dfs):\n",
    "    df['rsi'] = talib.RSI(df['adj_close'], 14)\n",
    "\n",
    "    df['rsi_ob'] = (df['rsi'] > 70).astype(int)\n",
    "    df['rsi_os'] = (df['rsi'] < 30).astype(int)\n",
    "\n",
    "dfs[0][20:25]"
   ]
  },
  {
   "cell_type": "code",
   "execution_count": 16,
   "metadata": {},
   "outputs": [],
   "source": [
    "# Del unneccesary cols\n",
    "#for df in dfs:\n",
    "#    df.drop(['gain', \n",
    "#             'loss'\n",
    "#            ], axis=1, inplace=True)"
   ]
  },
  {
   "cell_type": "markdown",
   "metadata": {},
   "source": [
    "## Average True Range\n",
    "Implemented according to the definition in Investopedia: https://www.investopedia.com/terms/a/atr.asp"
   ]
  },
  {
   "cell_type": "code",
   "execution_count": 17,
   "metadata": {},
   "outputs": [],
   "source": [
    "for df in dfs:\n",
    "    atr_value = talib.ATR(df['high'], df['low'], df['close'], timeperiod=14)\n",
    "    df['atr'] = atr_value/atr_value.min()\n",
    "\n",
    "    # Get bullish atr signal - buy when next day's price is above yesterday's closing + atr\n",
    "    close_lag_1 = df['close'].shift(1)\n",
    "    df['atr_signal'] = (df['high'] > (close_lag_1 + df['atr'])).astype(int)\n",
    "    \n",
    "    # Get bearish atr signal - sell when next day's price is below yesterday's closing - atr\n",
    "    df['atr_signaldown'] = (df['low'] < (close_lag_1 - df['atr'])).astype(int)"
   ]
  },
  {
   "cell_type": "code",
   "execution_count": 18,
   "metadata": {},
   "outputs": [],
   "source": [
    "# Del unneccesary cols\n",
    "#for df in dfs:\n",
    "#    df.drop(['close_lag_1'], axis=1, inplace=True)"
   ]
  },
  {
   "cell_type": "markdown",
   "metadata": {},
   "source": [
    "## Average Directional Index\n",
    "Implemented according to:\n",
    "\n",
    "https://www.investopedia.com/terms/a/adx.asp\n",
    "\n",
    "https://school.stockcharts.com/doku.php?id=technical_indicators:average_directional_index_adx"
   ]
  },
  {
   "cell_type": "code",
   "execution_count": 19,
   "metadata": {},
   "outputs": [
    {
     "data": {
      "application/vnd.jupyter.widget-view+json": {
       "model_id": "afc4a1710a7045a59c5745b5f521fd29",
       "version_major": 2,
       "version_minor": 0
      },
      "text/plain": [
       "  0%|          | 0/300 [00:00<?, ?it/s]"
      ]
     },
     "metadata": {},
     "output_type": "display_data"
    }
   ],
   "source": [
    "for i, df in tqdm_notebook(enumerate(dfs), total=len(dfs)):\n",
    "\n",
    "    adx = talib.ADX(df['high'], df['low'], df['close'],timeperiod=14)\n",
    "    df['adx'] = adx\n",
    "\n",
    "    # Get +/- directional index\n",
    "    df['+di'] = talib.PLUS_DI(df['high'], df['low'], df['close'],timeperiod=14)\n",
    "    df['-di'] = talib.MINUS_DI(df['high'], df['low'], df['close'],timeperiod=14)\n",
    "\n",
    "    # Get adx strength and trendless\n",
    "    df['adx_strength'] = (df['adx'] > 25).astype(int)\n",
    "    df['adx_trendless'] = (df['adx'] < 20).astype(int)\n",
    "\n",
    "    # Get adx signals\n",
    "    df['+di_lag_1'] = df['+di'].shift(1)\n",
    "    df['-di_lag_1'] = df['-di'].shift(1)\n",
    "    df['adx_bull'] = ((df['+di_lag_1'] < df['-di_lag_1']) & (df['+di'] > df['-di']) & (df['adx_strength']==True)).astype(int)\n",
    "    df['adx_bear'] = ((df['-di_lag_1'] < df['+di_lag_1']) & (df['-di'] > df['+di']) & (df['adx_strength']==True)).astype(int)\n"
   ]
  },
  {
   "cell_type": "code",
   "execution_count": 20,
   "metadata": {},
   "outputs": [],
   "source": [
    "# Del unneccesary cols\n",
    "#for df in dfs:\n",
    "#    df.drop(['+di',\n",
    "#             '-di',\n",
    "#             '+di_lag_1',\n",
    "#             '-di_lag_1',\n",
    "#             'tr', \n",
    "#             '+dm', \n",
    "#             '-dm', \n",
    "#             'smoothed+dm',\n",
    "#             'smoothed-dm',\n",
    "#             '14tr',\n",
    "#             'dx',\n",
    "#             'tr'], axis=1, inplace=True)"
   ]
  },
  {
   "cell_type": "markdown",
   "metadata": {},
   "source": [
    "## Bollinger Bands"
   ]
  },
  {
   "cell_type": "code",
   "execution_count": 21,
   "metadata": {},
   "outputs": [],
   "source": [
    "for df in dfs:\n",
    "    u_band, m_band, l_band = talib.BBANDS(df['adj_close'], timeperiod=10,\n",
    "                                   nbdevup=2, nbdevdn=2, matype=0)\n",
    "\n",
    "    # Get dist between bollinger bands and the price\n",
    "    df['bollinger_upp_dist'] = u_band - df['adj_close']\n",
    "    df['bollinger_mid_dist'] = df['adj_close'] - m_band\n",
    "    df['bollinger_low_dist'] = df['adj_close'] - l_band\n",
    "\n",
    "    # Get signals\n",
    "    df['bollinger_ob'] = (df['adj_close'] > u_band).astype(int)\n",
    "    df['bollinger_os'] = (df['adj_close'] < l_band).astype(int)\n",
    "    df['bollinger_om'] = (df['adj_close'] > u_band).astype(int)"
   ]
  },
  {
   "cell_type": "code",
   "execution_count": 22,
   "metadata": {},
   "outputs": [],
   "source": [
    "# Del unneccesary cols\n",
    "#for df in dfs:\n",
    "#    df.drop(['std_20', 'bollinger_upp', 'bollinger_low'], axis=1, inplace=True)"
   ]
  },
  {
   "cell_type": "code",
   "execution_count": 23,
   "metadata": {},
   "outputs": [],
   "source": [
    "# Remove unnecessary cols\n",
    "for df in dfs:\n",
    "    df.drop(['open',\n",
    "             'high', \n",
    "             'low',\n",
    "             'close',\n",
    "             'volume',\n",
    "             'adj_close_lag_1',\n",
    "             #'dji',\n",
    "             #'n225',\n",
    "             #'sp500',\n",
    "             #'bond13',\n",
    "             #'bond5',\n",
    "             ], axis=1, inplace=True)"
   ]
  },
  {
   "cell_type": "code",
   "execution_count": 24,
   "metadata": {},
   "outputs": [
    {
     "name": "stdout",
     "output_type": "stream",
     "text": [
      "<class 'pandas.core.frame.DataFrame'>\n",
      "Int64Index: 1486 entries, 0 to 1485\n",
      "Columns: 103 entries, date to bollinger_om\n",
      "dtypes: datetime64[ns](1), float64(33), int64(67), object(2)\n",
      "memory usage: 1.2+ MB\n"
     ]
    }
   ],
   "source": [
    "df.info()"
   ]
  },
  {
   "cell_type": "markdown",
   "metadata": {},
   "source": [
    "# EDA"
   ]
  },
  {
   "cell_type": "code",
   "execution_count": 25,
   "metadata": {},
   "outputs": [],
   "source": [
    "def add_lags(df_list, columns, N):\n",
    "    dfs = [df.copy(deep=True) for df in df_list]\n",
    "    for df in tqdm_notebook(dfs):\n",
    "        for col in columns:\n",
    "            for i in range(1, N):\n",
    "                df[f'{col}_lag_{i}'] = df[col].shift(i)\n",
    "    return dfs"
   ]
  },
  {
   "cell_type": "code",
   "execution_count": 26,
   "metadata": {},
   "outputs": [
    {
     "data": {
      "application/vnd.jupyter.widget-view+json": {
       "model_id": "1667a09d83de48b7a5ec8f6df57c8986",
       "version_major": 2,
       "version_minor": 0
      },
      "text/plain": [
       "  0%|          | 0/300 [00:00<?, ?it/s]"
      ]
     },
     "metadata": {},
     "output_type": "display_data"
    },
    {
     "data": {
      "text/plain": [
       "(1486, 113)"
      ]
     },
     "execution_count": 26,
     "metadata": {},
     "output_type": "execute_result"
    }
   ],
   "source": [
    "# create lag for daily return to N days ahead\n",
    "for df in dfs:\n",
    "    df['temp_ret'] = 100.0 * ((df['adj_close'].shift(1) / df['adj_close'])-1)*-1\n",
    "    #df.drop(['index'], axis=1, inplace=True)\n",
    "dfs_lags = add_lags(dfs, ['temp_ret'], N)\n",
    "#dfs_lags = add_lags(dfs_lags, ['forex_ret'], 4)\n",
    "#dfs_lags = add_lags(dfs_lags, ['sp500_ret'], 4)\n",
    "#dfs_lags = add_lags(dfs_lags, ['n225_ret'], 4)\n",
    "#dfs_lags = add_lags(dfs_lags, ['bond13_ret'], 4)\n",
    "#dfs_lags = add_lags(dfs_lags, ['bond5_ret'], 4)\n",
    "dfs_lags[0].shape"
   ]
  },
  {
   "cell_type": "code",
   "execution_count": 27,
   "metadata": {},
   "outputs": [
    {
     "data": {
      "text/plain": [
       "0            NaN\n",
       "1       2.057989\n",
       "2      -1.135288\n",
       "3      -2.721094\n",
       "4      -2.083324\n",
       "          ...   \n",
       "1481   -0.495942\n",
       "1482    0.224921\n",
       "1483   -1.506849\n",
       "1484    0.904977\n",
       "1485    0.315742\n",
       "Name: adj_close, Length: 1486, dtype: float64"
      ]
     },
     "execution_count": 27,
     "metadata": {},
     "output_type": "execute_result"
    }
   ],
   "source": [
    "temp_ret = 100.0 * ((df['adj_close'].shift(1) / df['adj_close'])-1)*-1\n",
    "temp_ret"
   ]
  },
  {
   "cell_type": "code",
   "execution_count": 28,
   "metadata": {},
   "outputs": [
    {
     "data": {
      "application/vnd.jupyter.widget-view+json": {
       "model_id": "a10bcfbf72b944c19cdfc1f3702c3ca8",
       "version_major": 2,
       "version_minor": 0
      },
      "text/plain": [
       "  0%|          | 0/300 [00:00<?, ?it/s]"
      ]
     },
     "metadata": {},
     "output_type": "display_data"
    },
    {
     "data": {
      "text/plain": [
       "(1486, 206)"
      ]
     },
     "execution_count": 28,
     "metadata": {},
     "output_type": "execute_result"
    }
   ],
   "source": [
    "# Create lags for technical indicators\n",
    "tech_indicators = list(set(dfs[0].columns) - set(\n",
    "    ['date', 'daily_ret', 'sector', 'ticker', 'weekday', 'month', 'year', \n",
    "        'dji', 'dji_ret', 'forex', 'forex_ret', 'sp500', 'sp500_ret', 'n225', 'n225_ret', 'bond13', 'bond13_ret', 'bond5', 'bond5_ret', 'volatility']\n",
    "    ))\n",
    "tech_indicators.sort()\n",
    "\n",
    "dfs_lags = add_lags(dfs_lags, tech_indicators, 2)\n",
    "dfs_lags[0].shape"
   ]
  },
  {
   "cell_type": "code",
   "execution_count": 29,
   "metadata": {},
   "outputs": [],
   "source": [
    "#for df in dfs_lags:\n",
    "#    df.drop([f'{tech_indicator}_lag_1' for tech_indicator in tech_indicators], axis=1, inplace=True)"
   ]
  },
  {
   "cell_type": "code",
   "execution_count": 30,
   "metadata": {},
   "outputs": [
    {
     "data": {
      "text/plain": [
       "(1486, 109)"
      ]
     },
     "execution_count": 30,
     "metadata": {},
     "output_type": "execute_result"
    }
   ],
   "source": [
    "# Remove columns\n",
    "for df in dfs_lags:\n",
    "    df.drop(tech_indicators, axis=1, inplace=True)\n",
    "dfs_lags[0].shape"
   ]
  },
  {
   "cell_type": "markdown",
   "metadata": {},
   "source": [
    "# Encode Label"
   ]
  },
  {
   "cell_type": "code",
   "execution_count": 31,
   "metadata": {},
   "outputs": [],
   "source": [
    "#with open('temp/v8_predict.pickle', 'wb') as handle:\n",
    "#    pickle.dump(dfs_lags, handle)"
   ]
  },
  {
   "cell_type": "code",
   "execution_count": 32,
   "metadata": {},
   "outputs": [],
   "source": [
    "df_lags = pd.concat(dfs_lags)"
   ]
  },
  {
   "cell_type": "code",
   "execution_count": 33,
   "metadata": {},
   "outputs": [
    {
     "data": {
      "text/plain": [
       "(443396, 109)"
      ]
     },
     "execution_count": 33,
     "metadata": {},
     "output_type": "execute_result"
    }
   ],
   "source": [
    "df_lags.shape"
   ]
  },
  {
   "cell_type": "code",
   "execution_count": 34,
   "metadata": {},
   "outputs": [],
   "source": [
    "df_lags = df_lags[(abs(df_lags['daily_ret']) <= 50) | (df_lags['daily_ret'].isna())]"
   ]
  },
  {
   "cell_type": "code",
   "execution_count": 35,
   "metadata": {},
   "outputs": [],
   "source": [
    "with open('v8/enc_date.pickle', 'rb') as handle:\n",
    "    date_encoder = pickle.load(handle)\n",
    "\n",
    "with open('v8/enc_sector.pickle', 'rb') as handle:\n",
    "    sector_encoder = pickle.load(handle)\n",
    "\n",
    "with open('v8/enc_ticker.pickle', 'rb') as handle:\n",
    "    ticker_encoder = pickle.load(handle)"
   ]
  },
  {
   "cell_type": "code",
   "execution_count": 36,
   "metadata": {},
   "outputs": [],
   "source": [
    "\n",
    "a = np.array([pd.Timestamp(date) for date in date_encoder.classes_])\n",
    "date_encoder_dict = dict(zip(a, date_encoder.transform(date_encoder.classes_)))\n",
    "\n",
    "last_date = list(date_encoder_dict.keys())[-1]\n",
    "last_date_encoder = list(date_encoder_dict.values())[-1]\n",
    "for i in range(1, 365):\n",
    "    new_date = last_date + np.timedelta64(i, 'D')\n",
    "    last_date_encoder += 1\n",
    "    date_encoder_dict[new_date] = last_date_encoder"
   ]
  },
  {
   "cell_type": "code",
   "execution_count": 37,
   "metadata": {},
   "outputs": [
    {
     "data": {
      "text/html": [
       "<div>\n",
       "<style scoped>\n",
       "    .dataframe tbody tr th:only-of-type {\n",
       "        vertical-align: middle;\n",
       "    }\n",
       "\n",
       "    .dataframe tbody tr th {\n",
       "        vertical-align: top;\n",
       "    }\n",
       "\n",
       "    .dataframe thead th {\n",
       "        text-align: right;\n",
       "    }\n",
       "</style>\n",
       "<table border=\"1\" class=\"dataframe\">\n",
       "  <thead>\n",
       "    <tr style=\"text-align: right;\">\n",
       "      <th></th>\n",
       "      <th>date</th>\n",
       "      <th>ticker</th>\n",
       "      <th>sector</th>\n",
       "      <th>daily_ret</th>\n",
       "      <th>volatility</th>\n",
       "      <th>weekday</th>\n",
       "      <th>month</th>\n",
       "      <th>temp_ret_lag_1</th>\n",
       "      <th>temp_ret_lag_2</th>\n",
       "      <th>temp_ret_lag_3</th>\n",
       "      <th>...</th>\n",
       "      <th>sma_cut200down_lag_1</th>\n",
       "      <th>sma_cut20down_lag_1</th>\n",
       "      <th>sma_cut50_lag_1</th>\n",
       "      <th>sma_cut50down_lag_1</th>\n",
       "      <th>stochastic_fast_lag_1</th>\n",
       "      <th>stochastic_fastcutslow_lag_1</th>\n",
       "      <th>stochastic_fastcutslowdown_lag_1</th>\n",
       "      <th>stochastic_overb_lag_1</th>\n",
       "      <th>stochastic_overs_lag_1</th>\n",
       "      <th>stochastic_slow_lag_1</th>\n",
       "    </tr>\n",
       "  </thead>\n",
       "  <tbody>\n",
       "    <tr>\n",
       "      <th>0</th>\n",
       "      <td>12.0</td>\n",
       "      <td>186</td>\n",
       "      <td>21</td>\n",
       "      <td>-0.119339</td>\n",
       "      <td>0.031419</td>\n",
       "      <td>2</td>\n",
       "      <td>7</td>\n",
       "      <td>NaN</td>\n",
       "      <td>NaN</td>\n",
       "      <td>NaN</td>\n",
       "      <td>...</td>\n",
       "      <td>NaN</td>\n",
       "      <td>NaN</td>\n",
       "      <td>NaN</td>\n",
       "      <td>NaN</td>\n",
       "      <td>NaN</td>\n",
       "      <td>NaN</td>\n",
       "      <td>NaN</td>\n",
       "      <td>NaN</td>\n",
       "      <td>NaN</td>\n",
       "      <td>NaN</td>\n",
       "    </tr>\n",
       "    <tr>\n",
       "      <th>1</th>\n",
       "      <td>13.0</td>\n",
       "      <td>186</td>\n",
       "      <td>21</td>\n",
       "      <td>0.597372</td>\n",
       "      <td>0.012581</td>\n",
       "      <td>3</td>\n",
       "      <td>7</td>\n",
       "      <td>NaN</td>\n",
       "      <td>NaN</td>\n",
       "      <td>NaN</td>\n",
       "      <td>...</td>\n",
       "      <td>0.0</td>\n",
       "      <td>0.0</td>\n",
       "      <td>0.0</td>\n",
       "      <td>0.0</td>\n",
       "      <td>NaN</td>\n",
       "      <td>0.0</td>\n",
       "      <td>0.0</td>\n",
       "      <td>0.0</td>\n",
       "      <td>0.0</td>\n",
       "      <td>NaN</td>\n",
       "    </tr>\n",
       "    <tr>\n",
       "      <th>2</th>\n",
       "      <td>14.0</td>\n",
       "      <td>186</td>\n",
       "      <td>21</td>\n",
       "      <td>-1.645744</td>\n",
       "      <td>0.034179</td>\n",
       "      <td>4</td>\n",
       "      <td>7</td>\n",
       "      <td>-0.119481</td>\n",
       "      <td>NaN</td>\n",
       "      <td>NaN</td>\n",
       "      <td>...</td>\n",
       "      <td>0.0</td>\n",
       "      <td>0.0</td>\n",
       "      <td>0.0</td>\n",
       "      <td>0.0</td>\n",
       "      <td>NaN</td>\n",
       "      <td>0.0</td>\n",
       "      <td>0.0</td>\n",
       "      <td>0.0</td>\n",
       "      <td>0.0</td>\n",
       "      <td>NaN</td>\n",
       "    </tr>\n",
       "    <tr>\n",
       "      <th>3</th>\n",
       "      <td>15.0</td>\n",
       "      <td>186</td>\n",
       "      <td>21</td>\n",
       "      <td>-1.742293</td>\n",
       "      <td>0.021612</td>\n",
       "      <td>0</td>\n",
       "      <td>8</td>\n",
       "      <td>0.593825</td>\n",
       "      <td>-0.119481</td>\n",
       "      <td>NaN</td>\n",
       "      <td>...</td>\n",
       "      <td>0.0</td>\n",
       "      <td>0.0</td>\n",
       "      <td>0.0</td>\n",
       "      <td>0.0</td>\n",
       "      <td>NaN</td>\n",
       "      <td>0.0</td>\n",
       "      <td>0.0</td>\n",
       "      <td>0.0</td>\n",
       "      <td>0.0</td>\n",
       "      <td>NaN</td>\n",
       "    </tr>\n",
       "    <tr>\n",
       "      <th>4</th>\n",
       "      <td>16.0</td>\n",
       "      <td>186</td>\n",
       "      <td>21</td>\n",
       "      <td>-1.878518</td>\n",
       "      <td>0.013682</td>\n",
       "      <td>1</td>\n",
       "      <td>8</td>\n",
       "      <td>-1.673282</td>\n",
       "      <td>0.593825</td>\n",
       "      <td>-0.119481</td>\n",
       "      <td>...</td>\n",
       "      <td>0.0</td>\n",
       "      <td>0.0</td>\n",
       "      <td>0.0</td>\n",
       "      <td>0.0</td>\n",
       "      <td>NaN</td>\n",
       "      <td>0.0</td>\n",
       "      <td>0.0</td>\n",
       "      <td>0.0</td>\n",
       "      <td>0.0</td>\n",
       "      <td>NaN</td>\n",
       "    </tr>\n",
       "  </tbody>\n",
       "</table>\n",
       "<p>5 rows × 109 columns</p>\n",
       "</div>"
      ],
      "text/plain": [
       "   date  ticker  sector  daily_ret  volatility  weekday  month  \\\n",
       "0  12.0     186      21  -0.119339    0.031419        2      7   \n",
       "1  13.0     186      21   0.597372    0.012581        3      7   \n",
       "2  14.0     186      21  -1.645744    0.034179        4      7   \n",
       "3  15.0     186      21  -1.742293    0.021612        0      8   \n",
       "4  16.0     186      21  -1.878518    0.013682        1      8   \n",
       "\n",
       "   temp_ret_lag_1  temp_ret_lag_2  temp_ret_lag_3  ...  sma_cut200down_lag_1  \\\n",
       "0             NaN             NaN             NaN  ...                   NaN   \n",
       "1             NaN             NaN             NaN  ...                   0.0   \n",
       "2       -0.119481             NaN             NaN  ...                   0.0   \n",
       "3        0.593825       -0.119481             NaN  ...                   0.0   \n",
       "4       -1.673282        0.593825       -0.119481  ...                   0.0   \n",
       "\n",
       "   sma_cut20down_lag_1  sma_cut50_lag_1  sma_cut50down_lag_1  \\\n",
       "0                  NaN              NaN                  NaN   \n",
       "1                  0.0              0.0                  0.0   \n",
       "2                  0.0              0.0                  0.0   \n",
       "3                  0.0              0.0                  0.0   \n",
       "4                  0.0              0.0                  0.0   \n",
       "\n",
       "   stochastic_fast_lag_1  stochastic_fastcutslow_lag_1  \\\n",
       "0                    NaN                           NaN   \n",
       "1                    NaN                           0.0   \n",
       "2                    NaN                           0.0   \n",
       "3                    NaN                           0.0   \n",
       "4                    NaN                           0.0   \n",
       "\n",
       "   stochastic_fastcutslowdown_lag_1  stochastic_overb_lag_1  \\\n",
       "0                               NaN                     NaN   \n",
       "1                               0.0                     0.0   \n",
       "2                               0.0                     0.0   \n",
       "3                               0.0                     0.0   \n",
       "4                               0.0                     0.0   \n",
       "\n",
       "   stochastic_overs_lag_1  stochastic_slow_lag_1  \n",
       "0                     NaN                    NaN  \n",
       "1                     0.0                    NaN  \n",
       "2                     0.0                    NaN  \n",
       "3                     0.0                    NaN  \n",
       "4                     0.0                    NaN  \n",
       "\n",
       "[5 rows x 109 columns]"
      ]
     },
     "execution_count": 37,
     "metadata": {},
     "output_type": "execute_result"
    }
   ],
   "source": [
    "# label encode for categorical variables: sector and ticker column\n",
    "df_lags['date'] = df_lags['date'].apply(\n",
    "    lambda x: date_encoder_dict.get(x)\n",
    ")\n",
    "df_lags['sector'] = sector_encoder.transform(df_lags['sector'])\n",
    "\n",
    "df_lags['ticker'] = ticker_encoder.transform(df_lags['ticker'])\n",
    "df_lags.head()"
   ]
  },
  {
   "cell_type": "code",
   "execution_count": 38,
   "metadata": {},
   "outputs": [
    {
     "data": {
      "text/html": [
       "<div>\n",
       "<style scoped>\n",
       "    .dataframe tbody tr th:only-of-type {\n",
       "        vertical-align: middle;\n",
       "    }\n",
       "\n",
       "    .dataframe tbody tr th {\n",
       "        vertical-align: top;\n",
       "    }\n",
       "\n",
       "    .dataframe thead th {\n",
       "        text-align: right;\n",
       "    }\n",
       "</style>\n",
       "<table border=\"1\" class=\"dataframe\">\n",
       "  <thead>\n",
       "    <tr style=\"text-align: right;\">\n",
       "      <th></th>\n",
       "      <th>date</th>\n",
       "      <th>ticker</th>\n",
       "      <th>sector</th>\n",
       "      <th>daily_ret</th>\n",
       "      <th>volatility</th>\n",
       "      <th>weekday</th>\n",
       "      <th>month</th>\n",
       "      <th>temp_ret_lag_1</th>\n",
       "      <th>temp_ret_lag_2</th>\n",
       "      <th>temp_ret_lag_3</th>\n",
       "      <th>...</th>\n",
       "      <th>sma_cut200down_lag_1</th>\n",
       "      <th>sma_cut20down_lag_1</th>\n",
       "      <th>sma_cut50_lag_1</th>\n",
       "      <th>sma_cut50down_lag_1</th>\n",
       "      <th>stochastic_fast_lag_1</th>\n",
       "      <th>stochastic_fastcutslow_lag_1</th>\n",
       "      <th>stochastic_fastcutslowdown_lag_1</th>\n",
       "      <th>stochastic_overb_lag_1</th>\n",
       "      <th>stochastic_overs_lag_1</th>\n",
       "      <th>stochastic_slow_lag_1</th>\n",
       "    </tr>\n",
       "  </thead>\n",
       "  <tbody>\n",
       "    <tr>\n",
       "      <th>1485</th>\n",
       "      <td>1430.0</td>\n",
       "      <td>231</td>\n",
       "      <td>27</td>\n",
       "      <td>NaN</td>\n",
       "      <td>0.010582</td>\n",
       "      <td>2</td>\n",
       "      <td>7</td>\n",
       "      <td>1.415929</td>\n",
       "      <td>-0.718133</td>\n",
       "      <td>-0.534759</td>\n",
       "      <td>...</td>\n",
       "      <td>0.0</td>\n",
       "      <td>0.0</td>\n",
       "      <td>0.0</td>\n",
       "      <td>0.0</td>\n",
       "      <td>60.465116</td>\n",
       "      <td>0.0</td>\n",
       "      <td>0.0</td>\n",
       "      <td>0.0</td>\n",
       "      <td>0.0</td>\n",
       "      <td>57.720930</td>\n",
       "    </tr>\n",
       "    <tr>\n",
       "      <th>1485</th>\n",
       "      <td>1430.0</td>\n",
       "      <td>85</td>\n",
       "      <td>9</td>\n",
       "      <td>NaN</td>\n",
       "      <td>0.020484</td>\n",
       "      <td>2</td>\n",
       "      <td>7</td>\n",
       "      <td>-1.333333</td>\n",
       "      <td>-1.127820</td>\n",
       "      <td>1.301115</td>\n",
       "      <td>...</td>\n",
       "      <td>0.0</td>\n",
       "      <td>0.0</td>\n",
       "      <td>0.0</td>\n",
       "      <td>0.0</td>\n",
       "      <td>83.859649</td>\n",
       "      <td>0.0</td>\n",
       "      <td>0.0</td>\n",
       "      <td>1.0</td>\n",
       "      <td>0.0</td>\n",
       "      <td>91.376796</td>\n",
       "    </tr>\n",
       "    <tr>\n",
       "      <th>1485</th>\n",
       "      <td>1430.0</td>\n",
       "      <td>283</td>\n",
       "      <td>29</td>\n",
       "      <td>NaN</td>\n",
       "      <td>0.019362</td>\n",
       "      <td>2</td>\n",
       "      <td>7</td>\n",
       "      <td>-1.152074</td>\n",
       "      <td>1.025057</td>\n",
       "      <td>-1.495972</td>\n",
       "      <td>...</td>\n",
       "      <td>0.0</td>\n",
       "      <td>1.0</td>\n",
       "      <td>0.0</td>\n",
       "      <td>0.0</td>\n",
       "      <td>21.097046</td>\n",
       "      <td>0.0</td>\n",
       "      <td>0.0</td>\n",
       "      <td>0.0</td>\n",
       "      <td>0.0</td>\n",
       "      <td>27.993832</td>\n",
       "    </tr>\n",
       "    <tr>\n",
       "      <th>1485</th>\n",
       "      <td>1430.0</td>\n",
       "      <td>284</td>\n",
       "      <td>29</td>\n",
       "      <td>NaN</td>\n",
       "      <td>0.019128</td>\n",
       "      <td>2</td>\n",
       "      <td>7</td>\n",
       "      <td>0.223514</td>\n",
       "      <td>1.478495</td>\n",
       "      <td>-1.546157</td>\n",
       "      <td>...</td>\n",
       "      <td>0.0</td>\n",
       "      <td>1.0</td>\n",
       "      <td>0.0</td>\n",
       "      <td>0.0</td>\n",
       "      <td>29.928315</td>\n",
       "      <td>0.0</td>\n",
       "      <td>0.0</td>\n",
       "      <td>0.0</td>\n",
       "      <td>0.0</td>\n",
       "      <td>30.884110</td>\n",
       "    </tr>\n",
       "    <tr>\n",
       "      <th>1485</th>\n",
       "      <td>1430.0</td>\n",
       "      <td>70</td>\n",
       "      <td>9</td>\n",
       "      <td>NaN</td>\n",
       "      <td>0.018468</td>\n",
       "      <td>2</td>\n",
       "      <td>7</td>\n",
       "      <td>0.904977</td>\n",
       "      <td>-1.506849</td>\n",
       "      <td>0.224921</td>\n",
       "      <td>...</td>\n",
       "      <td>1.0</td>\n",
       "      <td>1.0</td>\n",
       "      <td>0.0</td>\n",
       "      <td>1.0</td>\n",
       "      <td>63.073624</td>\n",
       "      <td>0.0</td>\n",
       "      <td>0.0</td>\n",
       "      <td>0.0</td>\n",
       "      <td>0.0</td>\n",
       "      <td>62.563903</td>\n",
       "    </tr>\n",
       "  </tbody>\n",
       "</table>\n",
       "<p>5 rows × 109 columns</p>\n",
       "</div>"
      ],
      "text/plain": [
       "        date  ticker  sector  daily_ret  volatility  weekday  month  \\\n",
       "1485  1430.0     231      27        NaN    0.010582        2      7   \n",
       "1485  1430.0      85       9        NaN    0.020484        2      7   \n",
       "1485  1430.0     283      29        NaN    0.019362        2      7   \n",
       "1485  1430.0     284      29        NaN    0.019128        2      7   \n",
       "1485  1430.0      70       9        NaN    0.018468        2      7   \n",
       "\n",
       "      temp_ret_lag_1  temp_ret_lag_2  temp_ret_lag_3  ...  \\\n",
       "1485        1.415929       -0.718133       -0.534759  ...   \n",
       "1485       -1.333333       -1.127820        1.301115  ...   \n",
       "1485       -1.152074        1.025057       -1.495972  ...   \n",
       "1485        0.223514        1.478495       -1.546157  ...   \n",
       "1485        0.904977       -1.506849        0.224921  ...   \n",
       "\n",
       "      sma_cut200down_lag_1  sma_cut20down_lag_1  sma_cut50_lag_1  \\\n",
       "1485                   0.0                  0.0              0.0   \n",
       "1485                   0.0                  0.0              0.0   \n",
       "1485                   0.0                  1.0              0.0   \n",
       "1485                   0.0                  1.0              0.0   \n",
       "1485                   1.0                  1.0              0.0   \n",
       "\n",
       "      sma_cut50down_lag_1  stochastic_fast_lag_1  \\\n",
       "1485                  0.0              60.465116   \n",
       "1485                  0.0              83.859649   \n",
       "1485                  0.0              21.097046   \n",
       "1485                  0.0              29.928315   \n",
       "1485                  1.0              63.073624   \n",
       "\n",
       "      stochastic_fastcutslow_lag_1  stochastic_fastcutslowdown_lag_1  \\\n",
       "1485                           0.0                               0.0   \n",
       "1485                           0.0                               0.0   \n",
       "1485                           0.0                               0.0   \n",
       "1485                           0.0                               0.0   \n",
       "1485                           0.0                               0.0   \n",
       "\n",
       "      stochastic_overb_lag_1  stochastic_overs_lag_1  stochastic_slow_lag_1  \n",
       "1485                     0.0                     0.0              57.720930  \n",
       "1485                     1.0                     0.0              91.376796  \n",
       "1485                     0.0                     0.0              27.993832  \n",
       "1485                     0.0                     0.0              30.884110  \n",
       "1485                     0.0                     0.0              62.563903  \n",
       "\n",
       "[5 rows x 109 columns]"
      ]
     },
     "execution_count": 38,
     "metadata": {},
     "output_type": "execute_result"
    }
   ],
   "source": [
    "df_lags[df_lags['date'] == (df_lags['date'].max())].tail()"
   ]
  },
  {
   "cell_type": "markdown",
   "metadata": {},
   "source": [
    "# Predicting data"
   ]
  },
  {
   "cell_type": "code",
   "execution_count": 39,
   "metadata": {},
   "outputs": [],
   "source": [
    "non_na = list(df_lags.columns)\n",
    "non_na.remove('daily_ret')\n",
    "df_lags.dropna(subset=non_na, inplace=True)"
   ]
  },
  {
   "cell_type": "code",
   "execution_count": 40,
   "metadata": {},
   "outputs": [],
   "source": [
    "pd.set_option('display.max_columns', 500)"
   ]
  },
  {
   "cell_type": "code",
   "execution_count": 41,
   "metadata": {},
   "outputs": [],
   "source": [
    "temp = df_lags.copy(deep=True)"
   ]
  },
  {
   "cell_type": "code",
   "execution_count": 42,
   "metadata": {},
   "outputs": [],
   "source": [
    "df_lags = temp.copy(deep=True)"
   ]
  },
  {
   "cell_type": "code",
   "execution_count": 55,
   "metadata": {},
   "outputs": [],
   "source": [
    "days_ago = 0\n",
    "get_models = False"
   ]
  },
  {
   "cell_type": "code",
   "execution_count": 56,
   "metadata": {},
   "outputs": [],
   "source": [
    "columns = list(df_lags.columns)\n",
    "deleting = []\n",
    "deleting_words = ['bollinger', 'sma', 'di', 'adx', 'ema', 'macd', 'rsi', 'stochastic', 'weekday', 'month']\n",
    "for col in columns:\n",
    "    if any(word in col for word in deleting_words):\n",
    "        deleting.append(col)\n",
    "\n",
    "df_lags.drop(columns=deleting, inplace=True)"
   ]
  },
  {
   "cell_type": "code",
   "execution_count": 57,
   "metadata": {},
   "outputs": [
    {
     "name": "stderr",
     "output_type": "stream",
     "text": [
      "/var/folders/kx/kj70wzv55d30dqrqqm60c3t80000gn/T/ipykernel_96101/486626462.py:5: SettingWithCopyWarning:\n",
      "\n",
      "\n",
      "A value is trying to be set on a copy of a slice from a DataFrame\n",
      "\n",
      "See the caveats in the documentation: https://pandas.pydata.org/pandas-docs/stable/user_guide/indexing.html#returning-a-view-versus-a-copy\n",
      "\n",
      "/var/folders/kx/kj70wzv55d30dqrqqm60c3t80000gn/T/ipykernel_96101/486626462.py:7: SettingWithCopyWarning:\n",
      "\n",
      "\n",
      "A value is trying to be set on a copy of a slice from a DataFrame\n",
      "\n",
      "See the caveats in the documentation: https://pandas.pydata.org/pandas-docs/stable/user_guide/indexing.html#returning-a-view-versus-a-copy\n",
      "\n"
     ]
    }
   ],
   "source": [
    "predicting = df_lags[df_lags['date'] == (df_lags['date'].max() - days_ago)]#df_lags.sort_values(by='date')[-20000:]\n",
    "while not predicting.shape[0]:\n",
    "    days_ago += 1\n",
    "    predicting = df_lags[df_lags['date'] == (df_lags['date'].max() - days_ago)]\n",
    "predicting.drop(columns=['date'], inplace=True)\n",
    "actual = predicting['daily_ret']\n",
    "predicting.drop(['daily_ret'], axis=1, inplace=True)"
   ]
  },
  {
   "cell_type": "code",
   "execution_count": 58,
   "metadata": {},
   "outputs": [
    {
     "data": {
      "text/html": [
       "<div>\n",
       "<style scoped>\n",
       "    .dataframe tbody tr th:only-of-type {\n",
       "        vertical-align: middle;\n",
       "    }\n",
       "\n",
       "    .dataframe tbody tr th {\n",
       "        vertical-align: top;\n",
       "    }\n",
       "\n",
       "    .dataframe thead th {\n",
       "        text-align: right;\n",
       "    }\n",
       "</style>\n",
       "<table border=\"1\" class=\"dataframe\">\n",
       "  <thead>\n",
       "    <tr style=\"text-align: right;\">\n",
       "      <th></th>\n",
       "      <th>ticker</th>\n",
       "      <th>sector</th>\n",
       "      <th>volatility</th>\n",
       "      <th>temp_ret_lag_1</th>\n",
       "      <th>temp_ret_lag_2</th>\n",
       "      <th>temp_ret_lag_3</th>\n",
       "      <th>temp_ret_lag_4</th>\n",
       "      <th>temp_ret_lag_5</th>\n",
       "      <th>temp_ret_lag_6</th>\n",
       "      <th>temp_ret_lag_7</th>\n",
       "      <th>temp_ret_lag_8</th>\n",
       "      <th>temp_ret_lag_9</th>\n",
       "      <th>adj_close_lag_1</th>\n",
       "      <th>atr_lag_1</th>\n",
       "      <th>atr_signal_lag_1</th>\n",
       "      <th>atr_signaldown_lag_1</th>\n",
       "    </tr>\n",
       "  </thead>\n",
       "  <tbody>\n",
       "    <tr>\n",
       "      <th>1485</th>\n",
       "      <td>231</td>\n",
       "      <td>27</td>\n",
       "      <td>0.010582</td>\n",
       "      <td>1.415929</td>\n",
       "      <td>-0.718133</td>\n",
       "      <td>-0.534759</td>\n",
       "      <td>0.709220</td>\n",
       "      <td>2.678571</td>\n",
       "      <td>0.366972</td>\n",
       "      <td>-1.841621</td>\n",
       "      <td>-1.989150</td>\n",
       "      <td>0.354610</td>\n",
       "      <td>5650.0</td>\n",
       "      <td>1.751550</td>\n",
       "      <td>1.0</td>\n",
       "      <td>0.0</td>\n",
       "    </tr>\n",
       "    <tr>\n",
       "      <th>1485</th>\n",
       "      <td>85</td>\n",
       "      <td>9</td>\n",
       "      <td>0.020484</td>\n",
       "      <td>-1.333333</td>\n",
       "      <td>-1.127820</td>\n",
       "      <td>1.301115</td>\n",
       "      <td>-0.188324</td>\n",
       "      <td>3.195489</td>\n",
       "      <td>-0.970874</td>\n",
       "      <td>0.576923</td>\n",
       "      <td>0.967118</td>\n",
       "      <td>0.585938</td>\n",
       "      <td>5250.0</td>\n",
       "      <td>2.886340</td>\n",
       "      <td>1.0</td>\n",
       "      <td>1.0</td>\n",
       "    </tr>\n",
       "    <tr>\n",
       "      <th>1485</th>\n",
       "      <td>283</td>\n",
       "      <td>29</td>\n",
       "      <td>0.019362</td>\n",
       "      <td>-1.152074</td>\n",
       "      <td>1.025057</td>\n",
       "      <td>-1.495972</td>\n",
       "      <td>-1.133787</td>\n",
       "      <td>-0.560538</td>\n",
       "      <td>-2.229654</td>\n",
       "      <td>2.399128</td>\n",
       "      <td>-1.229050</td>\n",
       "      <td>2.317881</td>\n",
       "      <td>868.0</td>\n",
       "      <td>1.673477</td>\n",
       "      <td>1.0</td>\n",
       "      <td>1.0</td>\n",
       "    </tr>\n",
       "    <tr>\n",
       "      <th>1485</th>\n",
       "      <td>284</td>\n",
       "      <td>29</td>\n",
       "      <td>0.019128</td>\n",
       "      <td>0.223514</td>\n",
       "      <td>1.478495</td>\n",
       "      <td>-1.546157</td>\n",
       "      <td>-1.030004</td>\n",
       "      <td>-0.044326</td>\n",
       "      <td>-1.683651</td>\n",
       "      <td>0.522876</td>\n",
       "      <td>-0.700832</td>\n",
       "      <td>0.478469</td>\n",
       "      <td>2237.0</td>\n",
       "      <td>2.498086</td>\n",
       "      <td>1.0</td>\n",
       "      <td>0.0</td>\n",
       "    </tr>\n",
       "    <tr>\n",
       "      <th>1485</th>\n",
       "      <td>70</td>\n",
       "      <td>9</td>\n",
       "      <td>0.018468</td>\n",
       "      <td>0.904977</td>\n",
       "      <td>-1.506849</td>\n",
       "      <td>0.224921</td>\n",
       "      <td>-0.495942</td>\n",
       "      <td>4.037685</td>\n",
       "      <td>0.607761</td>\n",
       "      <td>-0.564440</td>\n",
       "      <td>0.233863</td>\n",
       "      <td>-0.984529</td>\n",
       "      <td>2210.0</td>\n",
       "      <td>1.974014</td>\n",
       "      <td>1.0</td>\n",
       "      <td>0.0</td>\n",
       "    </tr>\n",
       "  </tbody>\n",
       "</table>\n",
       "</div>"
      ],
      "text/plain": [
       "      ticker  sector  volatility  temp_ret_lag_1  temp_ret_lag_2  \\\n",
       "1485     231      27    0.010582        1.415929       -0.718133   \n",
       "1485      85       9    0.020484       -1.333333       -1.127820   \n",
       "1485     283      29    0.019362       -1.152074        1.025057   \n",
       "1485     284      29    0.019128        0.223514        1.478495   \n",
       "1485      70       9    0.018468        0.904977       -1.506849   \n",
       "\n",
       "      temp_ret_lag_3  temp_ret_lag_4  temp_ret_lag_5  temp_ret_lag_6  \\\n",
       "1485       -0.534759        0.709220        2.678571        0.366972   \n",
       "1485        1.301115       -0.188324        3.195489       -0.970874   \n",
       "1485       -1.495972       -1.133787       -0.560538       -2.229654   \n",
       "1485       -1.546157       -1.030004       -0.044326       -1.683651   \n",
       "1485        0.224921       -0.495942        4.037685        0.607761   \n",
       "\n",
       "      temp_ret_lag_7  temp_ret_lag_8  temp_ret_lag_9  adj_close_lag_1  \\\n",
       "1485       -1.841621       -1.989150        0.354610           5650.0   \n",
       "1485        0.576923        0.967118        0.585938           5250.0   \n",
       "1485        2.399128       -1.229050        2.317881            868.0   \n",
       "1485        0.522876       -0.700832        0.478469           2237.0   \n",
       "1485       -0.564440        0.233863       -0.984529           2210.0   \n",
       "\n",
       "      atr_lag_1  atr_signal_lag_1  atr_signaldown_lag_1  \n",
       "1485   1.751550               1.0                   0.0  \n",
       "1485   2.886340               1.0                   1.0  \n",
       "1485   1.673477               1.0                   1.0  \n",
       "1485   2.498086               1.0                   0.0  \n",
       "1485   1.974014               1.0                   0.0  "
      ]
     },
     "execution_count": 58,
     "metadata": {},
     "output_type": "execute_result"
    }
   ],
   "source": [
    "predicting.tail()"
   ]
  },
  {
   "cell_type": "code",
   "execution_count": 59,
   "metadata": {},
   "outputs": [],
   "source": [
    "if get_models:\n",
    "    with open('v8/rf_model.pickle', 'rb') as handle:\n",
    "        rf = pickle.load(handle)\n",
    "    \n",
    "    with open('v8/rf_model2.pickle', 'rb') as handle:\n",
    "        rf2 = pickle.load(handle)\n",
    "    \n",
    "    with open('v8/xgb_model.pickle', 'rb') as handle:\n",
    "        xgb = pickle.load(handle)\n",
    "    \n",
    "    with open('v8/xgbclf_model.pickle', 'rb') as handle:\n",
    "        xgbclf = pickle.load(handle)\n",
    "    \n",
    "    with open('v8/lgbm_model.pickle', 'rb') as handle:\n",
    "        lbgm = pickle.load(handle)\n",
    "    \n",
    "    with open('v8/ridge_model.pickle', 'rb') as handle:\n",
    "        ridge = pickle.load(handle)"
   ]
  },
  {
   "cell_type": "markdown",
   "metadata": {},
   "source": [
    "# Predict with models"
   ]
  },
  {
   "cell_type": "code",
   "execution_count": 60,
   "metadata": {},
   "outputs": [],
   "source": [
    "tech_indicators = [\n",
    "    'sma_above20',\n",
    "    'sma_above50',\n",
    "    'sma_above100',\n",
    "    'sma_above200',\n",
    "    'sma_10above20',\n",
    "    'sma_10above50',\n",
    "    'sma_10above100',\n",
    "    'sma_10above200',\n",
    "    'sma_cut20',\n",
    "    'sma_cut50',\n",
    "    'sma_cut100',\n",
    "    'sma_cut200',\n",
    "    'sma_10cut20',\n",
    "    'sma_10cut50',\n",
    "    'sma_10cut100',\n",
    "    'sma_10cut200',\n",
    "    'sma_cut20down',\n",
    "    'sma_cut50down',\n",
    "    'sma_cut100down',\n",
    "    'sma_cut200down',\n",
    "    'sma_10cut20down',\n",
    "    'sma_10cut50down',\n",
    "    'sma_10cut100down',\n",
    "    'sma_10cut200down',\n",
    "    'ema_above20',\n",
    "    'ema_above50',\n",
    "    'ema_above100',\n",
    "    'ema_above200',\n",
    "    'ema_10above20',\n",
    "    'ema_10above50',\n",
    "    'ema_10above100',\n",
    "    'ema_10above200',\n",
    "    'ema_cut20',\n",
    "    'ema_cut50',\n",
    "    'ema_cut100',\n",
    "    'ema_cut200',\n",
    "    'ema_10cut20',\n",
    "    'ema_10cut50',\n",
    "    'ema_10cut100',\n",
    "    'ema_10cut200',\n",
    "    'ema_cut20down',\n",
    "    'ema_cut50down',\n",
    "    'ema_cut100down',\n",
    "    'ema_cut200down',\n",
    "    'ema_10cut20down',\n",
    "    'ema_10cut50down',\n",
    "    'ema_10cut100down',\n",
    "    'ema_10cut200down',\n",
    "    'macd',\n",
    "    'macd_crossover',\n",
    "    'macd_crossoverdown',\n",
    "    'stochastic_fast',\n",
    "    'stochastic_slow',\n",
    "    'stochastic_fastcutslow',\n",
    "    'stochastic_fastcutslowdown',\n",
    "    'stochastic_overs',\n",
    "    'stochastic_overb',\n",
    "    'rsi',\n",
    "    'rsi_ob',\n",
    "    'rsi_os',\n",
    "    'bollinger_upp_dist',\n",
    "    'bollinger_low_dist',\n",
    "    'bollinger_ob',\n",
    "    'bollinger_os'\n",
    "]"
   ]
  },
  {
   "cell_type": "code",
   "execution_count": 61,
   "metadata": {},
   "outputs": [],
   "source": [
    "def show_prediction_scatter(y_pred, y_valid):\n",
    "    fig, ax = plt.subplots()\n",
    "\n",
    "    ax.set_xlabel(\"predicted daily returns\")\n",
    "    ax.set_ylabel(\"actural daily returns\")\n",
    "    ax.scatter(y_pred, y_valid)\n",
    "\n",
    "    # y = x\n",
    "    lims = [\n",
    "        np.min([ax.get_xlim(), ax.get_ylim()]),  # min of both axes\n",
    "        np.max([ax.get_xlim(), ax.get_ylim()]),  # max of both axes\n",
    "    ]\n",
    "    # now plot both limits against eachother\n",
    "    ax.plot(lims, lims, 'k-', alpha=0.75, zorder=0)\n",
    "\n",
    "    ax.plot(lims, [0,0], 'r-', alpha=0.75)\n",
    "    ax.plot([0,0], lims, 'r-', alpha=0.75)\n",
    "\n",
    "    #ax.set_xlim([-30, 30])\n",
    "    #ax.set_ylim([-30, 30])\n",
    "\n",
    "    ax.set_aspect('equal')"
   ]
  },
  {
   "cell_type": "code",
   "execution_count": 62,
   "metadata": {},
   "outputs": [],
   "source": [
    "with open('v8/lgbm_model5.pickle', 'rb') as handle:\n",
    "    lbgm = pickle.load(handle)"
   ]
  },
  {
   "cell_type": "code",
   "execution_count": 63,
   "metadata": {},
   "outputs": [],
   "source": [
    "prediction = lbgm.predict(predicting)\n",
    "if days_ago:\n",
    "    print(lbgm.score(predicting, actual))"
   ]
  },
  {
   "cell_type": "code",
   "execution_count": 64,
   "metadata": {},
   "outputs": [],
   "source": [
    "data = {\n",
    "    'prediction': list(prediction),\n",
    "    'actual': [actual.iloc[i] for i in range(len(prediction))],\n",
    "}\n",
    "\n",
    "lgbm_result = pd.DataFrame(data)\n",
    "lgbm_result.index = [ticker_encoder.classes_[int(predicting.iloc[i]['ticker'])] for i in lgbm_result.index]"
   ]
  },
  {
   "cell_type": "code",
   "execution_count": 65,
   "metadata": {},
   "outputs": [
    {
     "data": {
      "image/png": "[encoded data removed]",
      "text/plain": [
       "<Figure size 432x288 with 1 Axes>"
      ]
     },
     "metadata": {
      "needs_background": "light"
     },
     "output_type": "display_data"
    }
   ],
   "source": [
    "show_prediction_scatter(prediction, actual)"
   ]
  },
  {
   "cell_type": "code",
   "execution_count": 66,
   "metadata": {},
   "outputs": [
    {
     "name": "stdout",
     "output_type": "stream",
     "text": [
      "average 3: 0.0\n",
      "average 5: 0.0\n",
      "average 10: 0.0\n",
      "        prediction  actual\n",
      "8355.T    4.243408     NaN\n",
      "1803.T    3.632653     NaN\n",
      "5332.T    3.560065     NaN\n",
      "8984.T    3.470702     NaN\n",
      "9697.T    3.340552     NaN\n",
      "8630.T    3.246160     NaN\n",
      "9143.T    3.238114     NaN\n",
      "7181.T    2.979779     NaN\n",
      "8331.T    2.948003     NaN\n",
      "7186.T    2.947348     NaN\n",
      "Index(['8355.T', '1803.T', '5332.T', '8984.T', '9697.T'], dtype='object')\n"
     ]
    }
   ],
   "source": [
    "top10 = lgbm_result.sort_values(by='prediction', ascending=False).head(10)\n",
    "print(f\"average 3: {top10['actual'].head(3).sum()/3}\")\n",
    "print(f\"average 5: {top10['actual'].head(5).sum()/5}\")\n",
    "print(f\"average 10: {top10['actual'].sum()/10}\")\n",
    "print(top10)\n",
    "print(top10.head(5).index)"
   ]
  },
  {
   "cell_type": "markdown",
   "metadata": {},
   "source": [
    "## Random Forest"
   ]
  },
  {
   "cell_type": "code",
   "execution_count": null,
   "metadata": {},
   "outputs": [],
   "source": [
    "with open('v8/rf_model2.pickle', 'rb') as handle:\n",
    "    rf = pickle.load(handle)"
   ]
  },
  {
   "cell_type": "markdown",
   "metadata": {},
   "source": [
    "### Predict"
   ]
  },
  {
   "cell_type": "code",
   "execution_count": null,
   "metadata": {},
   "outputs": [],
   "source": [
    "prediction = rf.predict(predicting)"
   ]
  },
  {
   "cell_type": "code",
   "execution_count": null,
   "metadata": {},
   "outputs": [
    {
     "data": {
      "text/plain": [
       "-0.028498960064333723"
      ]
     },
     "execution_count": 228,
     "metadata": {},
     "output_type": "execute_result"
    }
   ],
   "source": [
    "rf.score(predicting, actual)"
   ]
  },
  {
   "cell_type": "code",
   "execution_count": null,
   "metadata": {},
   "outputs": [],
   "source": [
    "data = {\n",
    "    'prediction': list(prediction),\n",
    "    'actual': [actual.iloc[i] for i in range(len(prediction))],\n",
    "}\n",
    "\n",
    "rf_result = pd.DataFrame(data)\n",
    "rf_result.index = [ticker_encoder.classes_[int(predicting.iloc[i]['ticker'])] for i in rf_result.index]"
   ]
  },
  {
   "cell_type": "markdown",
   "metadata": {},
   "source": [
    "### Result"
   ]
  },
  {
   "cell_type": "code",
   "execution_count": null,
   "metadata": {},
   "outputs": [
    {
     "data": {
      "image/png": "[encoded data removed]",
      "text/plain": [
       "<Figure size 432x288 with 1 Axes>"
      ]
     },
     "metadata": {
      "needs_background": "light"
     },
     "output_type": "display_data"
    }
   ],
   "source": [
    "show_prediction_scatter(prediction, actual)"
   ]
  },
  {
   "cell_type": "code",
   "execution_count": null,
   "metadata": {},
   "outputs": [
    {
     "name": "stdout",
     "output_type": "stream",
     "text": [
      "average: 0.7045680567200951\n",
      "        prediction    actual\n",
      "7532.T    1.062149  0.241546\n",
      "7309.T    0.972317 -0.635641\n",
      "7747.T    0.932722  3.054101\n",
      "6869.T    0.919851  2.080898\n",
      "7936.T    0.912035  1.622060\n",
      "2651.T    0.882533 -0.730689\n",
      "5713.T    0.847979  0.431691\n",
      "6532.T    0.843022  0.000000\n",
      "7011.T    0.817195  0.101235\n",
      "9984.T    0.777567  0.880480\n"
     ]
    }
   ],
   "source": [
    "top10 = rf_result.sort_values(by='prediction', ascending=False).head(10)\n",
    "print(f\"average: {top10['actual'].sum()/10}\")\n",
    "print(top10)"
   ]
  },
  {
   "cell_type": "markdown",
   "metadata": {},
   "source": [
    "## Random Forest2"
   ]
  },
  {
   "cell_type": "markdown",
   "metadata": {},
   "source": [
    "### Predict"
   ]
  },
  {
   "cell_type": "code",
   "execution_count": null,
   "metadata": {},
   "outputs": [],
   "source": [
    "prediction = rf2.predict(predicting)"
   ]
  },
  {
   "cell_type": "code",
   "execution_count": null,
   "metadata": {},
   "outputs": [],
   "source": [
    "data = {\n",
    "    'prediction': list(prediction),\n",
    "    'actual': [actual.iloc[i] for i in range(len(prediction))],\n",
    "}\n",
    "\n",
    "rf2_result = pd.DataFrame(data)\n",
    "rf2_result.index = [ticker_encoder.classes_[int(predicting.iloc[i]['ticker'])] for i in rf2_result.index]"
   ]
  },
  {
   "cell_type": "markdown",
   "metadata": {},
   "source": [
    "### Result"
   ]
  },
  {
   "cell_type": "code",
   "execution_count": null,
   "metadata": {},
   "outputs": [
    {
     "data": {
      "image/png": "[encoded data removed]",
      "text/plain": [
       "<Figure size 432x288 with 1 Axes>"
      ]
     },
     "metadata": {
      "needs_background": "light"
     },
     "output_type": "display_data"
    }
   ],
   "source": [
    "show_prediction_scatter(prediction, actual)"
   ]
  },
  {
   "cell_type": "code",
   "execution_count": null,
   "metadata": {},
   "outputs": [
    {
     "name": "stdout",
     "output_type": "stream",
     "text": [
      "average: 5.078728214819316\n",
      "        prediction     actual\n",
      "8267.T    7.336535  10.971524\n",
      "7936.T    4.440756   5.953878\n",
      "7532.T    3.753631   4.967386\n",
      "2127.T    3.530601   4.594767\n",
      "3769.T    3.465173   4.523580\n",
      "2181.T    3.186944   4.095164\n",
      "2897.T    3.079459   3.915344\n",
      "6098.T    3.069746   4.189526\n",
      "6758.T    3.066703   3.647276\n",
      "3092.T    3.005637   3.928836\n"
     ]
    }
   ],
   "source": [
    "top10 = rf2_result.sort_values(by='prediction', ascending=False).head(10)\n",
    "print(f\"average: {top10['actual'].sum()/10}\")\n",
    "print(top10)"
   ]
  },
  {
   "cell_type": "markdown",
   "metadata": {},
   "source": [
    "## XGBOOST"
   ]
  },
  {
   "cell_type": "markdown",
   "metadata": {},
   "source": [
    "### Predict"
   ]
  },
  {
   "cell_type": "code",
   "execution_count": null,
   "metadata": {},
   "outputs": [],
   "source": [
    "prediction = xgb.predict(predicting)"
   ]
  },
  {
   "cell_type": "code",
   "execution_count": null,
   "metadata": {},
   "outputs": [
    {
     "name": "stdout",
     "output_type": "stream",
     "text": [
      "Date: 2022-07-16\n",
      "Ticker: 2127.T\n",
      "Predicted max daily return: 2.6664371490478516\n"
     ]
    }
   ],
   "source": [
    "predicted_max_ret = prediction.max()\n",
    "predicted_max_i = prediction.argmax()\n",
    "ticker = ticker_encoder.classes_[int(predicting.iloc[predicted_max_i]['ticker'])]\n",
    "\n",
    "print(f'Date: {datetime.date.today()+ datetime.timedelta(days=1)}')\n",
    "print(f'Ticker: {ticker}')\n",
    "print(f'Predicted max daily return: {predicted_max_ret}')"
   ]
  },
  {
   "cell_type": "code",
   "execution_count": null,
   "metadata": {},
   "outputs": [],
   "source": [
    "data = {\n",
    "    'prediction': list(prediction),\n",
    "    'actual': [actual.iloc[i] for i in range(len(prediction))],\n",
    "}\n",
    "\n",
    "xgb_result = pd.DataFrame(data)\n",
    "xgb_result.index = [ticker_encoder.classes_[int(predicting.iloc[i]['ticker'])] for i in xgb_result.index]"
   ]
  },
  {
   "cell_type": "markdown",
   "metadata": {},
   "source": [
    "### Result"
   ]
  },
  {
   "cell_type": "code",
   "execution_count": null,
   "metadata": {},
   "outputs": [
    {
     "data": {
      "image/png": "[encoded data removed]",
      "text/plain": [
       "<Figure size 432x288 with 1 Axes>"
      ]
     },
     "metadata": {
      "needs_background": "light"
     },
     "output_type": "display_data"
    }
   ],
   "source": [
    "show_prediction_scatter(prediction, actual)"
   ]
  },
  {
   "cell_type": "code",
   "execution_count": null,
   "metadata": {},
   "outputs": [
    {
     "name": "stdout",
     "output_type": "stream",
     "text": [
      "average: 4.343025372463134\n",
      "        prediction     actual\n",
      "2127.T    2.666437   4.594767\n",
      "8267.T    2.525169  10.971524\n",
      "3769.T    2.407281   4.523580\n",
      "6967.T    2.406476   3.039514\n",
      "6920.T    2.347917   2.504526\n",
      "6098.T    2.274603   4.189526\n",
      "3064.T    2.171466   2.749446\n",
      "6702.T    2.091142   3.327596\n",
      "6532.T    2.055919   3.434610\n",
      "2181.T    1.964093   4.095164\n"
     ]
    }
   ],
   "source": [
    "top10 = xgb_result.sort_values(by='prediction', ascending=False).head(10)\n",
    "print(f\"average: {top10['actual'].sum()/10}\")\n",
    "print(top10)"
   ]
  },
  {
   "cell_type": "markdown",
   "metadata": {},
   "source": [
    "## XGBOOST Classification"
   ]
  },
  {
   "cell_type": "markdown",
   "metadata": {},
   "source": [
    "### Predict"
   ]
  },
  {
   "cell_type": "code",
   "execution_count": null,
   "metadata": {},
   "outputs": [],
   "source": [
    "xgbclf_result = xgbclf.predict(predicting)"
   ]
  },
  {
   "cell_type": "code",
   "execution_count": null,
   "metadata": {},
   "outputs": [],
   "source": [
    "proba = xgbclf.predict_proba(predicting)"
   ]
  },
  {
   "cell_type": "code",
   "execution_count": null,
   "metadata": {},
   "outputs": [],
   "source": [
    "xgbclf_proba = pd.DataFrame(proba)"
   ]
  },
  {
   "cell_type": "code",
   "execution_count": null,
   "metadata": {},
   "outputs": [
    {
     "data": {
      "text/html": [
       "<div>\n",
       "<style scoped>\n",
       "    .dataframe tbody tr th:only-of-type {\n",
       "        vertical-align: middle;\n",
       "    }\n",
       "\n",
       "    .dataframe tbody tr th {\n",
       "        vertical-align: top;\n",
       "    }\n",
       "\n",
       "    .dataframe thead th {\n",
       "        text-align: right;\n",
       "    }\n",
       "</style>\n",
       "<table border=\"1\" class=\"dataframe\">\n",
       "  <thead>\n",
       "    <tr style=\"text-align: right;\">\n",
       "      <th></th>\n",
       "      <th>0</th>\n",
       "      <th>1</th>\n",
       "    </tr>\n",
       "  </thead>\n",
       "  <tbody>\n",
       "    <tr>\n",
       "      <th>7203.T</th>\n",
       "      <td>0.216452</td>\n",
       "      <td>0.783548</td>\n",
       "    </tr>\n",
       "    <tr>\n",
       "      <th>1306.T</th>\n",
       "      <td>0.407166</td>\n",
       "      <td>0.592834</td>\n",
       "    </tr>\n",
       "    <tr>\n",
       "      <th>9432.T</th>\n",
       "      <td>0.350421</td>\n",
       "      <td>0.649579</td>\n",
       "    </tr>\n",
       "    <tr>\n",
       "      <th>6758.T</th>\n",
       "      <td>0.235589</td>\n",
       "      <td>0.764411</td>\n",
       "    </tr>\n",
       "    <tr>\n",
       "      <th>6861.T</th>\n",
       "      <td>0.202156</td>\n",
       "      <td>0.797844</td>\n",
       "    </tr>\n",
       "  </tbody>\n",
       "</table>\n",
       "</div>"
      ],
      "text/plain": [
       "               0         1\n",
       "7203.T  0.216452  0.783548\n",
       "1306.T  0.407166  0.592834\n",
       "9432.T  0.350421  0.649579\n",
       "6758.T  0.235589  0.764411\n",
       "6861.T  0.202156  0.797844"
      ]
     },
     "execution_count": 565,
     "metadata": {},
     "output_type": "execute_result"
    }
   ],
   "source": [
    "xgbclf_proba.index = [ticker_encoder.classes_[int(predicting.iloc[i]['ticker'])] for i in xgbclf_proba.index]\n",
    "xgbclf_proba.head()"
   ]
  },
  {
   "cell_type": "markdown",
   "metadata": {},
   "source": [
    "## LightBGM"
   ]
  },
  {
   "cell_type": "markdown",
   "metadata": {},
   "source": [
    "### Predict"
   ]
  },
  {
   "cell_type": "code",
   "execution_count": null,
   "metadata": {},
   "outputs": [],
   "source": [
    "with open('temp/lgbm.pickle', 'rb') as handle:\n",
    "    lbgm = pickle.load(handle)"
   ]
  },
  {
   "cell_type": "code",
   "execution_count": null,
   "metadata": {},
   "outputs": [],
   "source": [
    "prediction = lbgm.predict(predicting)"
   ]
  },
  {
   "cell_type": "code",
   "execution_count": null,
   "metadata": {},
   "outputs": [
    {
     "name": "stdout",
     "output_type": "stream",
     "text": [
      "Date: 2022-07-16\n",
      "Ticker: 6869.T\n",
      "Predicted max daily return: 0.5916319545571533\n"
     ]
    }
   ],
   "source": [
    "predicted_max_ret = prediction.max()\n",
    "predicted_max_i = prediction.argmax()\n",
    "ticker = ticker_encoder.classes_[int(predicting.iloc[predicted_max_i]['ticker'])]\n",
    "\n",
    "print(f'Date: {datetime.date.today()+ datetime.timedelta(days=1)}')\n",
    "print(f'Ticker: {ticker}')\n",
    "print(f'Predicted max daily return: {predicted_max_ret}')"
   ]
  },
  {
   "cell_type": "code",
   "execution_count": null,
   "metadata": {},
   "outputs": [],
   "source": [
    "data = {\n",
    "    'prediction': list(prediction),\n",
    "    'actual': [actual.iloc[i] for i in range(len(prediction))],\n",
    "}\n",
    "\n",
    "lgbm_result = pd.DataFrame(data)\n",
    "lgbm_result.index = [ticker_encoder.classes_[int(predicting.iloc[i]['ticker'])] for i in lgbm_result.index]"
   ]
  },
  {
   "cell_type": "markdown",
   "metadata": {},
   "source": [
    "### Result"
   ]
  },
  {
   "cell_type": "code",
   "execution_count": null,
   "metadata": {},
   "outputs": [
    {
     "data": {
      "image/png": "[encoded data removed]",
      "text/plain": [
       "<Figure size 432x288 with 1 Axes>"
      ]
     },
     "metadata": {
      "needs_background": "light"
     },
     "output_type": "display_data"
    }
   ],
   "source": [
    "show_prediction_scatter(prediction, actual)"
   ]
  },
  {
   "cell_type": "code",
   "execution_count": null,
   "metadata": {},
   "outputs": [
    {
     "name": "stdout",
     "output_type": "stream",
     "text": [
      "average: 1.0197004076132665\n",
      "        prediction     actual\n",
      "6869.T    0.591632  -3.272254\n",
      "6532.T    0.395340  -1.932367\n",
      "2413.T    0.283582   1.004414\n",
      "4062.T    0.190477   0.355240\n",
      "6920.T    0.162493  -0.204173\n",
      "2127.T    0.153824  -3.982542\n",
      "7733.T    0.118696  -1.587654\n",
      "9984.T    0.080686  -2.088083\n",
      "7747.T    0.073039  21.762783\n",
      "3774.T    0.071720   0.141639\n"
     ]
    }
   ],
   "source": [
    "top10 = lgbm_result.sort_values(by='prediction', ascending=False).head(10)\n",
    "print(f\"average: {top10['actual'].sum()/10}\")\n",
    "print(top10)"
   ]
  },
  {
   "cell_type": "markdown",
   "metadata": {},
   "source": [
    "# Merge Results"
   ]
  },
  {
   "cell_type": "code",
   "execution_count": null,
   "metadata": {},
   "outputs": [],
   "source": [
    "merged_result = pd.concat(\n",
    "    [\n",
    "        rf_result.add_prefix('rf_'),\n",
    "        rf2_result.add_prefix('rf2_'),\n",
    "        xgb_result.add_prefix('xgb_'),\n",
    "        lgbm_result.add_prefix('lgbm_')\n",
    "    ], join='inner', axis=1)\n",
    "merged_result.drop(['xgb_actual', 'lgbm_actual', 'rf2_actual'], axis=1, inplace=True)\n",
    "merged_result['xgbclf'] = xgbclf_result.tolist()\n",
    "merged_result.rename(columns={\n",
    "    'rf_actual': 'actual',\n",
    "    'rf_prediction': 'rf',\n",
    "    'rf2_prediction': 'rf2',\n",
    "    'xgb_prediction': 'xgb',\n",
    "    'lgbm_prediction': 'lgbm'}, inplace=True)"
   ]
  },
  {
   "cell_type": "code",
   "execution_count": null,
   "metadata": {},
   "outputs": [
    {
     "data": {
      "text/html": [
       "<div>\n",
       "<style scoped>\n",
       "    .dataframe tbody tr th:only-of-type {\n",
       "        vertical-align: middle;\n",
       "    }\n",
       "\n",
       "    .dataframe tbody tr th {\n",
       "        vertical-align: top;\n",
       "    }\n",
       "\n",
       "    .dataframe thead th {\n",
       "        text-align: right;\n",
       "    }\n",
       "</style>\n",
       "<table border=\"1\" class=\"dataframe\">\n",
       "  <thead>\n",
       "    <tr style=\"text-align: right;\">\n",
       "      <th></th>\n",
       "      <th>rf</th>\n",
       "      <th>actual</th>\n",
       "      <th>rf2</th>\n",
       "      <th>xgb</th>\n",
       "      <th>lgbm</th>\n",
       "      <th>xgbclf</th>\n",
       "    </tr>\n",
       "  </thead>\n",
       "  <tbody>\n",
       "    <tr>\n",
       "      <th>7203.T</th>\n",
       "      <td>1.919435</td>\n",
       "      <td>2.283771</td>\n",
       "      <td>1.998648</td>\n",
       "      <td>1.214168</td>\n",
       "      <td>1.273826</td>\n",
       "      <td>1</td>\n",
       "    </tr>\n",
       "    <tr>\n",
       "      <th>1306.T</th>\n",
       "      <td>-0.845325</td>\n",
       "      <td>-0.995152</td>\n",
       "      <td>-0.778295</td>\n",
       "      <td>0.432227</td>\n",
       "      <td>0.976003</td>\n",
       "      <td>1</td>\n",
       "    </tr>\n",
       "    <tr>\n",
       "      <th>9432.T</th>\n",
       "      <td>0.339672</td>\n",
       "      <td>0.548876</td>\n",
       "      <td>0.471333</td>\n",
       "      <td>0.564770</td>\n",
       "      <td>0.904455</td>\n",
       "      <td>1</td>\n",
       "    </tr>\n",
       "    <tr>\n",
       "      <th>6758.T</th>\n",
       "      <td>3.018888</td>\n",
       "      <td>3.647276</td>\n",
       "      <td>3.066703</td>\n",
       "      <td>1.624202</td>\n",
       "      <td>1.225324</td>\n",
       "      <td>1</td>\n",
       "    </tr>\n",
       "    <tr>\n",
       "      <th>6861.T</th>\n",
       "      <td>2.670501</td>\n",
       "      <td>2.981030</td>\n",
       "      <td>2.453363</td>\n",
       "      <td>1.257706</td>\n",
       "      <td>1.294783</td>\n",
       "      <td>1</td>\n",
       "    </tr>\n",
       "  </tbody>\n",
       "</table>\n",
       "</div>"
      ],
      "text/plain": [
       "              rf    actual       rf2       xgb      lgbm  xgbclf\n",
       "7203.T  1.919435  2.283771  1.998648  1.214168  1.273826       1\n",
       "1306.T -0.845325 -0.995152 -0.778295  0.432227  0.976003       1\n",
       "9432.T  0.339672  0.548876  0.471333  0.564770  0.904455       1\n",
       "6758.T  3.018888  3.647276  3.066703  1.624202  1.225324       1\n",
       "6861.T  2.670501  2.981030  2.453363  1.257706  1.294783       1"
      ]
     },
     "execution_count": 572,
     "metadata": {},
     "output_type": "execute_result"
    }
   ],
   "source": [
    "merged_result.head()"
   ]
  },
  {
   "cell_type": "markdown",
   "metadata": {},
   "source": [
    "## Stacking prediction"
   ]
  },
  {
   "cell_type": "markdown",
   "metadata": {},
   "source": [
    "### Stacking predict"
   ]
  },
  {
   "cell_type": "code",
   "execution_count": null,
   "metadata": {},
   "outputs": [],
   "source": [
    "final_pred = ridge.predict(merged_result.drop(['actual'], axis=1))"
   ]
  },
  {
   "cell_type": "code",
   "execution_count": null,
   "metadata": {},
   "outputs": [
    {
     "name": "stdout",
     "output_type": "stream",
     "text": [
      "Date: 2022-07-16\n",
      "Ticker: 9468.T\n",
      "Predicted max daily return: 1.7172318623202076\n"
     ]
    }
   ],
   "source": [
    "predicted_max_ret = prediction.max()\n",
    "predicted_max_i = prediction.argmax()\n",
    "ticker = ticker_encoder.classes_[int(predicting.iloc[predicted_max_i]['ticker'])]\n",
    "\n",
    "print(f'Date: {datetime.date.today()+ datetime.timedelta(days=1)}')\n",
    "print(f'Ticker: {ticker}')\n",
    "print(f'Predicted max daily return: {predicted_max_ret}')"
   ]
  },
  {
   "cell_type": "code",
   "execution_count": null,
   "metadata": {},
   "outputs": [],
   "source": [
    "data = {\n",
    "    'prediction': list(final_pred),\n",
    "    'actual': [merged_result['actual'].iloc[i] for i in range(len(prediction))],\n",
    "}\n",
    "\n",
    "final_result = pd.DataFrame(data)\n",
    "final_result.index = [i for i in merged_result.index]"
   ]
  },
  {
   "cell_type": "markdown",
   "metadata": {},
   "source": [
    "### Result"
   ]
  },
  {
   "cell_type": "code",
   "execution_count": null,
   "metadata": {},
   "outputs": [
    {
     "data": {
      "image/png": "[encoded data removed]",
      "text/plain": [
       "<Figure size 432x288 with 1 Axes>"
      ]
     },
     "metadata": {
      "needs_background": "light"
     },
     "output_type": "display_data"
    }
   ],
   "source": [
    "show_prediction_scatter(final_pred, actual)"
   ]
  },
  {
   "cell_type": "code",
   "execution_count": null,
   "metadata": {},
   "outputs": [
    {
     "name": "stdout",
     "output_type": "stream",
     "text": [
      "average: 5.061735035972006\n",
      "        prediction     actual\n",
      "8267.T   10.750336  10.971524\n",
      "7936.T    6.101390   5.953878\n",
      "7532.T    5.073610   4.967386\n",
      "3769.T    4.505261   4.523580\n",
      "2127.T    4.455358   4.594767\n",
      "2897.T    4.193073   3.915344\n",
      "2181.T    4.094531   4.095164\n",
      "6758.T    3.985165   3.647276\n",
      "4528.T    3.967335   3.971429\n",
      "4689.T    3.962731   3.977002\n"
     ]
    }
   ],
   "source": [
    "top10 = final_result.sort_values(by='prediction', ascending=False).head(10)\n",
    "print(f\"average: {top10['actual'].sum()/10}\")\n",
    "print(top10)"
   ]
  },
  {
   "cell_type": "markdown",
   "metadata": {},
   "source": [
    "## merge by adding all prediction"
   ]
  },
  {
   "cell_type": "code",
   "execution_count": null,
   "metadata": {},
   "outputs": [],
   "source": [
    "merged_result[\"prediction\"] = (merged_result['rf'] + merged_result['xgb'] + merged_result['lgbm'])/3"
   ]
  },
  {
   "cell_type": "code",
   "execution_count": null,
   "metadata": {},
   "outputs": [
    {
     "name": "stdout",
     "output_type": "stream",
     "text": [
      "average: 4.9706190399744505\n",
      "           actual  prediction\n",
      "8267.T  10.971524    3.644255\n",
      "2127.T   4.594767    2.675912\n",
      "3769.T   4.523580    2.528742\n",
      "7936.T   5.953878    2.436029\n",
      "6098.T   4.189526    2.233486\n",
      "2181.T   4.095164    2.208628\n",
      "6920.T   2.504526    2.158538\n",
      "7532.T   4.967386    2.096885\n",
      "3092.T   3.928836    2.060984\n",
      "4689.T   3.977002    2.052046\n"
     ]
    }
   ],
   "source": [
    "top10 = merged_result.drop(columns=['rf', 'xgb', 'lgbm', 'rf2', 'xgbclf']).sort_values(by='prediction', ascending=False).head(10)\n",
    "print(f\"average: {top10['actual'].sum()/10}\")\n",
    "print(top10)"
   ]
  },
  {
   "cell_type": "code",
   "execution_count": null,
   "metadata": {},
   "outputs": [
    {
     "data": {
      "text/plain": [
       "4.9706190399744505"
      ]
     },
     "execution_count": 580,
     "metadata": {},
     "output_type": "execute_result"
    }
   ],
   "source": [
    "merged_result.sort_values(by='prediction', ascending=False).head(10)[\"actual\"].sum()/10"
   ]
  },
  {
   "cell_type": "code",
   "execution_count": null,
   "metadata": {},
   "outputs": [
    {
     "data": {
      "image/png": "[encoded data removed]",
      "text/plain": [
       "<Figure size 432x288 with 1 Axes>"
      ]
     },
     "metadata": {
      "needs_background": "light"
     },
     "output_type": "display_data"
    }
   ],
   "source": [
    "show_prediction_scatter(merged_result['prediction'], merged_result['actual'])"
   ]
  },
  {
   "cell_type": "markdown",
   "metadata": {},
   "source": [
    "## Using classification probability"
   ]
  },
  {
   "cell_type": "code",
   "execution_count": null,
   "metadata": {},
   "outputs": [],
   "source": [
    "top10 = xgbclf_proba.sort_values(by=1, ascending=False).index"
   ]
  },
  {
   "cell_type": "code",
   "execution_count": null,
   "metadata": {},
   "outputs": [
    {
     "name": "stdout",
     "output_type": "stream",
     "text": [
      "average: 1.5637784152463972\n"
     ]
    },
    {
     "data": {
      "text/plain": [
       "6723.T    1.693480\n",
       "7731.T    1.147776\n",
       "8355.T    0.765306\n",
       "3291.T    2.870813\n",
       "4004.T    1.009637\n",
       "8031.T    1.063638\n",
       "8697.T    0.968758\n",
       "3269.T    1.538462\n",
       "2002.T    1.918317\n",
       "6504.T    2.661597\n",
       "Name: actual, dtype: float64"
      ]
     },
     "execution_count": 583,
     "metadata": {},
     "output_type": "execute_result"
    }
   ],
   "source": [
    "top10_prob = merged_result.loc[top10]['actual']\n",
    "print(f\"average: {top10_prob.head(10).sum()/ 10}\")\n",
    "top10_prob.head(10)"
   ]
  },
  {
   "cell_type": "markdown",
   "metadata": {},
   "source": [
    "# Compare"
   ]
  },
  {
   "cell_type": "code",
   "execution_count": null,
   "metadata": {},
   "outputs": [
    {
     "data": {
      "text/html": [
       "<div>\n",
       "<style scoped>\n",
       "    .dataframe tbody tr th:only-of-type {\n",
       "        vertical-align: middle;\n",
       "    }\n",
       "\n",
       "    .dataframe tbody tr th {\n",
       "        vertical-align: top;\n",
       "    }\n",
       "\n",
       "    .dataframe thead th {\n",
       "        text-align: right;\n",
       "    }\n",
       "</style>\n",
       "<table border=\"1\" class=\"dataframe\">\n",
       "  <thead>\n",
       "    <tr style=\"text-align: right;\">\n",
       "      <th></th>\n",
       "      <th>daily return</th>\n",
       "    </tr>\n",
       "  </thead>\n",
       "  <tbody>\n",
       "    <tr>\n",
       "      <th>xgb</th>\n",
       "      <td>4.343025</td>\n",
       "    </tr>\n",
       "    <tr>\n",
       "      <th>lgbm</th>\n",
       "      <td>2.560278</td>\n",
       "    </tr>\n",
       "    <tr>\n",
       "      <th>rf</th>\n",
       "      <td>5.093402</td>\n",
       "    </tr>\n",
       "    <tr>\n",
       "      <th>stack</th>\n",
       "      <td>5.061735</td>\n",
       "    </tr>\n",
       "    <tr>\n",
       "      <th>summing</th>\n",
       "      <td>4.970619</td>\n",
       "    </tr>\n",
       "    <tr>\n",
       "      <th>percentage_ave</th>\n",
       "      <td>1.563778</td>\n",
       "    </tr>\n",
       "  </tbody>\n",
       "</table>\n",
       "</div>"
      ],
      "text/plain": [
       "                daily return\n",
       "xgb                 4.343025\n",
       "lgbm                2.560278\n",
       "rf                  5.093402\n",
       "stack               5.061735\n",
       "summing             4.970619\n",
       "percentage_ave      1.563778"
      ]
     },
     "execution_count": 584,
     "metadata": {},
     "output_type": "execute_result"
    }
   ],
   "source": [
    "buying_num = 10\n",
    "\n",
    "xgb_ave = xgb_result.sort_values(by='prediction', ascending=False).head(buying_num)[\"actual\"].sum()/buying_num\n",
    "lgbm_ave = lgbm_result.sort_values(by='prediction', ascending=False).head(buying_num)[\"actual\"].sum()/buying_num\n",
    "rf_ave = rf_result.sort_values(by='prediction', ascending=False).head(buying_num)[\"actual\"].sum()/buying_num\n",
    "\n",
    "stack_ave = final_result.sort_values(by='prediction', ascending=False).head(buying_num)[\"actual\"].sum()/buying_num\n",
    "summing_ave = merged_result.sort_values(by='prediction', ascending=False).head(buying_num)[\"actual\"].sum()/buying_num\n",
    "percentage_ave = top10_prob.head(buying_num).sum()/buying_num\n",
    "\n",
    "data = {\n",
    "    \"daily return\": [xgb_ave, lgbm_ave, rf_ave, stack_ave, summing_ave, percentage_ave]\n",
    "}\n",
    "\n",
    "pd.DataFrame(data, index=['xgb', 'lgbm', 'rf', 'stack', 'summing', 'percentage_ave'])"
   ]
  },
  {
   "cell_type": "code",
   "execution_count": null,
   "metadata": {},
   "outputs": [],
   "source": []
  }
 ],
 "metadata": {
  "kernelspec": {
   "display_name": "Python 3.10.1 ('venv': venv)",
   "language": "python",
   "name": "python3"
  },
  "language_info": {
   "codemirror_mode": {
    "name": "ipython",
    "version": 3
   },
   "file_extension": ".py",
   "mimetype": "text/x-python",
   "name": "python",
   "nbconvert_exporter": "python",
   "pygments_lexer": "ipython3",
   "version": "3.10.1"
  },
  "orig_nbformat": 4,
  "vscode": {
   "interpreter": {
    "hash": "5f67bef7fea8d36d90cbfb3203958e099e59ca90a56b35f0afc62e57411c8dd4"
   }
  }
 },
 "nbformat": 4,
 "nbformat_minor": 2
}
