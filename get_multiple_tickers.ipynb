{
 "cells": [
  {
   "cell_type": "code",
   "execution_count": 1,
   "metadata": {},
   "outputs": [],
   "source": [
    "import xgboost as xgb\n",
    "import yfinance as yf\n",
    "import matplotlib.pyplot as plt\n",
    "import pandas as pd\n",
    "import numpy as np\n",
    "from sklearn.inspection import PartialDependenceDisplay\n",
    "from sklearn.metrics import mean_absolute_error\n",
    "from sklearn.metrics import mean_squared_error\n",
    "from sklearn.metrics import mean_absolute_percentage_error"
   ]
  },
  {
   "cell_type": "code",
   "execution_count": 2,
   "metadata": {},
   "outputs": [],
   "source": [
    "def get_data(ticker):\n",
    "    stock = yf.Ticker(ticker)\n",
    "    df = stock.history(period=\"2y\", interval='1h').drop(columns=[\"Dividends\", \"Stock Splits\"])\n",
    "    df.reset_index(inplace=True)\n",
    "\n",
    "    df[\"Date\"] = df.index\n",
    "    df.drop(columns=[\"index\", \"Low\", \"High\", \"Volume\",\"Open\"], inplace=True)\n",
    "\n",
    "    # get the last 1 week of data (7h/day and 5 days/week)\n",
    "    LAST_DAYS = 7 * 5\n",
    "\n",
    "    # train data\n",
    "    train = df.iloc[:-1*LAST_DAYS]\n",
    "    X_train = train.drop(columns=['Close']) # explanatory variable\n",
    "    y_train = train['Close']              # target variable\n",
    "\n",
    "    # test data\n",
    "    test = df.iloc[-1*LAST_DAYS:]  #テストデータ\n",
    "    X_test = test.drop(columns=['Close']) # explanatory variable\n",
    "    y_test = test['Close']              # target variable\n",
    "    train.head()\n",
    "    return X_train, y_train, X_test, y_test"
   ]
  }
 ],
 "metadata": {
  "kernelspec": {
   "display_name": "Python 3.10.1 ('venv': venv)",
   "language": "python",
   "name": "python3"
  },
  "language_info": {
   "codemirror_mode": {
    "name": "ipython",
    "version": 3
   },
   "file_extension": ".py",
   "mimetype": "text/x-python",
   "name": "python",
   "nbconvert_exporter": "python",
   "pygments_lexer": "ipython3",
   "version": "3.10.1"
  },
  "orig_nbformat": 4,
  "vscode": {
   "interpreter": {
    "hash": "5f67bef7fea8d36d90cbfb3203958e099e59ca90a56b35f0afc62e57411c8dd4"
   }
  }
 },
 "nbformat": 4,
 "nbformat_minor": 2
}
